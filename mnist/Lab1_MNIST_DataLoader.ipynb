{
  "cells": [
    {
      "metadata": {
        "collapsed": true
      },
      "cell_type": "markdown",
      "source": "# Lab 1: MNIST Data Loader\n\nThis notebook is the first lab of the \"Deep Learning Explained\" course.  It is derived from  the tutorial numbered CNTK_103A in the CNTK repository.  This notebook is used to download and pre-process the [MNIST][] digit images to be used for building different models to recognize handwritten digits.   \n\n** Note: ** This notebook must be run to completion before the other course notebooks can be run.\n\n[MNIST]: http://yann.lecun.com/exdb/mnist/"
    },
    {
      "metadata": {
        "trusted": true
      },
      "cell_type": "code",
      "source": "# Import the relevant modules to be used later\nfrom __future__ import print_function\nimport gzip\nimport matplotlib.image as mpimg\nimport matplotlib.pyplot as plt\nimport numpy as np\nimport os\nimport shutil\nimport struct\nimport sys\n\ntry: \n    from urllib.request import urlretrieve \nexcept ImportError: \n    from urllib import urlretrieve\n\n# Config matplotlib for inline plotting\n%matplotlib inline",
      "execution_count": 1,
      "outputs": []
    },
    {
      "metadata": {},
      "cell_type": "markdown",
      "source": "## Data download\n\nWe will download the data onto the local machine. The MNIST database is a standard set of handwritten digits that has been widely used for training and testing of machine learning algorithms. It has a training set of 60,000 images and a test set of 10,000 images with each image being 28 x 28 grayscale pixels. This set is easy to use visualize and train on any computer."
    },
    {
      "metadata": {
        "trusted": true
      },
      "cell_type": "code",
      "source": "# Functions to load MNIST images and unpack into train and test set.\n# - loadData reads image data and formats into a 28x28 long array\n# - loadLabels reads the corresponding labels data, 1 for each image\n# - load packs the downloaded image and labels data into a combined format to be read later by \n#   CNTK text reader \n\ndef loadData(src, cimg):\n    print ('Downloading ' + src)\n    gzfname, h = urlretrieve(src, './delete.me')\n    print ('Done.')\n    try:\n        with gzip.open(gzfname) as gz:\n            n = struct.unpack('I', gz.read(4))\n            # Read magic number.\n            if n[0] != 0x3080000:\n                raise Exception('Invalid file: unexpected magic number.')\n            # Read number of entries.\n            n = struct.unpack('>I', gz.read(4))[0]\n            if n != cimg:\n                raise Exception('Invalid file: expected {0} entries.'.format(cimg))\n            crow = struct.unpack('>I', gz.read(4))[0]\n            ccol = struct.unpack('>I', gz.read(4))[0]\n            if crow != 28 or ccol != 28:\n                raise Exception('Invalid file: expected 28 rows/cols per image.')\n            # Read data.\n            res = np.fromstring(gz.read(cimg * crow * ccol), dtype = np.uint8)\n    finally:\n        os.remove(gzfname)\n    return res.reshape((cimg, crow * ccol))\n\ndef loadLabels(src, cimg):\n    print ('Downloading ' + src)\n    gzfname, h = urlretrieve(src, './delete.me')\n    print ('Done.')\n    try:\n        with gzip.open(gzfname) as gz:\n            n = struct.unpack('I', gz.read(4))\n            # Read magic number.\n            if n[0] != 0x1080000:\n                raise Exception('Invalid file: unexpected magic number.')\n            # Read number of entries.\n            n = struct.unpack('>I', gz.read(4))\n            if n[0] != cimg:\n                raise Exception('Invalid file: expected {0} rows.'.format(cimg))\n            # Read labels.\n            res = np.fromstring(gz.read(cimg), dtype = np.uint8)\n    finally:\n        os.remove(gzfname)\n    return res.reshape((cimg, 1))\n\ndef try_download(dataSrc, labelsSrc, cimg):\n    data = loadData(dataSrc, cimg)\n    labels = loadLabels(labelsSrc, cimg)\n    return np.hstack((data, labels))\n",
      "execution_count": 2,
      "outputs": []
    },
    {
      "metadata": {},
      "cell_type": "markdown",
      "source": "# Download the data\n\nIn the following code, we use the functions defined above to download and unzip the MNIST data into memory.  The training set has 60000 images while the test set has 10000 images. "
    },
    {
      "metadata": {
        "trusted": true
      },
      "cell_type": "code",
      "source": "# URLs for the train image and labels data\nurl_train_image = 'http://yann.lecun.com/exdb/mnist/train-images-idx3-ubyte.gz'\nurl_train_labels = 'http://yann.lecun.com/exdb/mnist/train-labels-idx1-ubyte.gz'\nnum_train_samples = 60000\n\nprint(\"Downloading train data\")\ntrain = try_download(url_train_image, url_train_labels, num_train_samples)\n\n\nurl_test_image = 'http://yann.lecun.com/exdb/mnist/t10k-images-idx3-ubyte.gz'\nurl_test_labels = 'http://yann.lecun.com/exdb/mnist/t10k-labels-idx1-ubyte.gz'\nnum_test_samples = 10000\n\nprint(\"Downloading test data\")\ntest = try_download(url_test_image, url_test_labels, num_test_samples)",
      "execution_count": 3,
      "outputs": [
        {
          "output_type": "stream",
          "text": "Downloading train data\nDownloading http://yann.lecun.com/exdb/mnist/train-images-idx3-ubyte.gz\nDone.\n",
          "name": "stdout"
        },
        {
          "output_type": "stream",
          "text": "/home/nbuser/anaconda3_420/lib/python3.5/site-packages/ipykernel/__main__.py:26: DeprecationWarning: The binary mode of fromstring is deprecated, as it behaves surprisingly on unicode inputs. Use frombuffer instead\n",
          "name": "stderr"
        },
        {
          "output_type": "stream",
          "text": "Downloading http://yann.lecun.com/exdb/mnist/train-labels-idx1-ubyte.gz\nDone.\n",
          "name": "stdout"
        },
        {
          "output_type": "stream",
          "text": "/home/nbuser/anaconda3_420/lib/python3.5/site-packages/ipykernel/__main__.py:46: DeprecationWarning: The binary mode of fromstring is deprecated, as it behaves surprisingly on unicode inputs. Use frombuffer instead\n",
          "name": "stderr"
        },
        {
          "output_type": "stream",
          "text": "Downloading test data\nDownloading http://yann.lecun.com/exdb/mnist/t10k-images-idx3-ubyte.gz\nDone.\nDownloading http://yann.lecun.com/exdb/mnist/t10k-labels-idx1-ubyte.gz\nDone.\n",
          "name": "stdout"
        }
      ]
    },
    {
      "metadata": {},
      "cell_type": "markdown",
      "source": "# Visualize the data\nHere, we use matplotlib to display one of the training images and it's associated label."
    },
    {
      "metadata": {
        "trusted": true
      },
      "cell_type": "code",
      "source": "# Plot a random image\nsample_number = 5001\nplt.imshow(train[sample_number,:-1].reshape(28,28), cmap=\"gray_r\")\nplt.axis('off')\nprint(\"Image Label: \", train[sample_number,-1])",
      "execution_count": 4,
      "outputs": [
        {
          "output_type": "stream",
          "text": "Image Label:  3\n",
          "name": "stdout"
        },
        {
          "output_type": "display_data",
          "data": {
            "image/png": "[encoded data removed]",
            "text/plain": "<matplotlib.figure.Figure at 0x7fb318326630>"
          },
          "metadata": {}
        }
      ]
    },
    {
      "metadata": {},
      "cell_type": "markdown",
      "source": "# Save the images\n\nSave the images in a local directory. While saving the data we flatten the images to a vector (28x28 image pixels becomes an array of length 784 data points).\n\n![mnist-input](https://www.cntk.ai/jup/cntk103a_MNIST_input.png)\n\nThe labels are encoded as [1-hot][] encoding (label of 3 with 10 digits becomes `0001000000`, where the first index corresponds to digit `0` and the last one corresponds to digit `9`.\n\n![mnist-label](https://www.cntk.ai/jup/cntk103a_onehot.png)\n\n[1-hot]: https://en.wikipedia.org/wiki/One-hot"
    },
    {
      "metadata": {
        "trusted": true
      },
      "cell_type": "code",
      "source": "# Save the data files into a format compatible with CNTK text reader\ndef savetxt(filename, ndarray):\n    dir = os.path.dirname(filename)\n\n    if not os.path.exists(dir):\n        os.makedirs(dir)\n\n    if not os.path.isfile(filename):\n        print(\"Saving\", filename )\n        with open(filename, 'w') as f:\n            labels = list(map(' '.join, np.eye(10, dtype=np.uint).astype(str)))\n            for row in ndarray:\n                row_str = row.astype(str)\n                label_str = labels[row[-1]]\n                feature_str = ' '.join(row_str[:-1])\n                f.write('|labels {} |features {}\\n'.format(label_str, feature_str))\n    else:\n        print(\"File already exists\", filename)\n",
      "execution_count": 5,
      "outputs": []
    },
    {
      "metadata": {
        "trusted": true
      },
      "cell_type": "code",
      "source": "# Save the train and test files (prefer our default path for the data)\ndata_dir = os.path.join(\"..\", \"Examples\", \"Image\", \"DataSets\", \"MNIST\")\nif not os.path.exists(data_dir):\n    data_dir = os.path.join(\"data\", \"MNIST\")\n\nprint ('Writing train text file...')\nsavetxt(os.path.join(data_dir, \"Train-28x28_cntk_text.txt\"), train)\n\nprint ('Writing test text file...')\nsavetxt(os.path.join(data_dir, \"Test-28x28_cntk_text.txt\"), test)\n\nprint('Done')",
      "execution_count": 6,
      "outputs": [
        {
          "output_type": "stream",
          "text": "Writing train text file...\nSaving data/MNIST/Train-28x28_cntk_text.txt\nWriting test text file...\nSaving data/MNIST/Test-28x28_cntk_text.txt\nDone\n",
          "name": "stdout"
        }
      ]
    },
    {
      "metadata": {},
      "cell_type": "markdown",
      "source": "**Optional: Suggested Explorations** \n\nOne can do data manipulations to improve the performance of a machine learning system. I suggest you first use the data generated so far and complete Lab 2- 4 labs. Once you have a baseline with classifying the data in its original form, now use the different data manipulation techniques to further improve the model.\n\nThere are several ways data alterations can be performed. CNTK readers automate a lot of these actions for you. However, to get a feel for how these transforms can impact training and test accuracies, I strongly encourage individuals to try one or more of data perturbation.\n\n- Shuffle the training data rows to create a different set of training images.  Be sure to shuffle each image in the same way.   Hint: Use `permute_indices = np.random.permutation(train.shape[0])`. Then run Lab 2-4 with this newly permuted data.\n- Adding noise to the data can often improve (lower) the [generalization error][]. You can augment the training set by adding  noise (generated with numpy, hint: use `numpy.random`) to the training images. \n- Distort the images with [affine transformation][] (translations or rotations)\n\n[generalization error]: https://en.wikipedia.org/wiki/Generalization_error\n[affine transformation]: https://en.wikipedia.org/wiki/Affine_transformation\n"
    },
    {
      "metadata": {
        "trusted": true
      },
      "cell_type": "code",
      "source": "",
      "execution_count": null,
      "outputs": []
    }
  ],
  "metadata": {
    "anaconda-cloud": {},
    "kernelspec": {
      "name": "python3",
      "display_name": "Python 3",
      "language": "python"
    },
    "language_info": {
      "mimetype": "text/x-python",
      "nbconvert_exporter": "python",
      "name": "python",
      "pygments_lexer": "ipython3",
      "version": "3.5.4",
      "file_extension": ".py",
      "codemirror_mode": {
        "version": 3,
        "name": "ipython"
      }
    }
  },
  "nbformat": 4,
  "nbformat_minor": 1
}