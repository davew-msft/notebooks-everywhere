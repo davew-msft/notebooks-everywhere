{
 "cells": [
  {
   "cell_type": "markdown",
   "metadata": {
    "slideshow": {
     "slide_type": "slide"
    }
   },
   "source": [
    "# Notebooks Everywhere\n",
    "\n",
    "* Dave Wentzel \n",
    "* Microsoft Technology Evangelist\n",
    "* linkedin.com/in/dwentzel\n",
    "* https://github.com/davew-msft/notebooks-everywhere"
   ]
  },
  {
   "cell_type": "markdown",
   "metadata": {
    "slideshow": {
     "slide_type": "slide"
    }
   },
   "source": [
    "## Agenda/Table of Contents\n",
    "\n",
    "Navigation\n",
    "\n",
    "* Overview Presentation (this notebook)\n",
    "* [Interface Walkthrough](01_interface.ipynb)\n",
    "* [Demo: Electric Vehicle Routing and Reachable Range with Azure Maps](02_ElectricVehicle.ipynb)\n",
    "* [Other Ways to Run Jupyter Notebooks](03_InstallationOptions.ipynb)\n",
    "* [Interesting Tidbits](04_tidbits.ipynb)\n",
    "* [**Here is a really cool example using Q# (Microsoft's Quantum Computing Language)**](q-sharp/README.md)\n",
    "\n",
    "### Why Should I care about this?  \n",
    "\n",
    "Notebooks tell a story and help you *think like a scientist*\n",
    "\n",
    "* [Here is an example that teaches Machine Learning via experimentation](ML-tutorial/Machine-Learning-Tutorial.ipynb)\n",
    "* [Here is a great example of \"model explainability\" that \"tells a story\"](model_explainability/train-deploy-explainer.ipynb)\n"
   ]
  },
  {
   "cell_type": "markdown",
   "metadata": {
    "slideshow": {
     "slide_type": "slide"
    }
   },
   "source": [
    "## Using Jupyter and Notebooks for Your Day-to-Day tasks\n",
    "\n",
    "Notebooks (think \"Jupyter\") aren't just for data scientists anymore. They are quickly becoming the de facto way to write code. Any code. In this session we'll show you a few different ways to integrate notebook-thinking into your daily life. From SQL Server DBAs to Azure Administrators, there's a notebook use case for everyone. No Powerpoint in this session, we'll even use notebooks to build interactive, data-driven presentations. We'll even show you how Deep Learning works under-the-covers using interactive notebooks. "
   ]
  },
  {
   "cell_type": "markdown",
   "metadata": {
    "slideshow": {
     "slide_type": "slide"
    }
   },
   "source": [
    "## Quick Demo\n",
    "\n",
    "Simulating pi using a goofy Monte Carlo simulation..."
   ]
  },
  {
   "cell_type": "code",
   "execution_count": null,
   "metadata": {
    "slideshow": {
     "slide_type": "slide"
    }
   },
   "outputs": [],
   "source": [
    "import random\n",
    "import math\n",
    "pi_counter = 0\n",
    "iters = 10000\n",
    "\n",
    "for i in range(1,iters):\n",
    "    # Monte Carlo step to update estimate\n",
    "    x = random.random()\n",
    "    y = random.random()\n",
    "    if x*x + y*y < 1.0:\n",
    "        pi_counter += 1\n",
    "    pi_estimate = 4.0*pi_counter / i\n",
    "    \n",
    "    # Log convergence every 1000 iterations\n",
    "    if i%1000==0:\n",
    "        error = math.pi-pi_estimate\n",
    "        print(\"Pi estimate\",pi_estimate)\n",
    "        print(\"Error\",error)\n",
    "\n",
    "# Log final results\n",
    "print(\"Final estimate\",pi_estimate)\n",
    "print(\"Final error\",math.pi-pi_estimate)\n"
   ]
  },
  {
   "cell_type": "markdown",
   "metadata": {
    "slideshow": {
     "slide_type": "slide"
    }
   },
   "source": [
    "## What are Jupyter Notebooks?\n",
    "\n",
    "* originally developed as part of the **IPython** project (interactive, online access to Python). \n",
    "* the R folks kinda liked it and Jupyter was spun off \n",
    "* Julia, Python, R :  original 3 languages\n",
    "* Now supports something like 400 languages\n",
    "  * SQL, scala, powershell, bash\n",
    "* generally these are saved with a .ipynb extension\n"
   ]
  },
  {
   "cell_type": "markdown",
   "metadata": {
    "slideshow": {
     "slide_type": "slide"
    }
   },
   "source": [
    "### REPL\n",
    "\n",
    "* Read, Evaluate, Print, Loop\n",
    "* code blocks are run in individual cells and can be modified and rerun as you \"learn\" your problem\n",
    "* The goal is to get your data and code to tell a story.  This is called `computational narrative` \n",
    "  * the complete and reproducible record of the computations *and the thought processes that went into the decisions* are recorded for posterity.  \n",
    "  * this enables a much more collaborative experience\n",
    " "
   ]
  },
  {
   "cell_type": "markdown",
   "metadata": {
    "slideshow": {
     "slide_type": "slide"
    }
   },
   "source": [
    "## Literate Computing\n",
    "\n",
    "From Donald Knuth:  \n",
    "\n",
    ">A program's logic should be explained in a natural language interspersed with traditional source code, that can be compiled and tells a story.  \n",
    "\n",
    "![knuth](data:image/jpeg;base64,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)\n",
    "\n"
   ]
  },
  {
   "cell_type": "code",
   "execution_count": null,
   "metadata": {},
   "outputs": [],
   "source": [
    "!pip install RISE"
   ]
  },
  {
   "cell_type": "markdown",
   "metadata": {
    "slideshow": {
     "slide_type": "slide"
    }
   },
   "source": [
    "## RISE\n",
    "\n",
    "* This ipynb file is optimized for presentations using RISE\n",
    "* [Revealjs Ipython Slideshow Extension](https://rise.readthedocs.io/en/maint-5.5/)\n",
    "* Not all Jupyter installations have RISE, but it can usually be installed.\n",
    "* To enable RISE for a ipynb file:\n",
    "  * `View|Cell Toolbar|Slideshow'\n",
    "  * Then make your slideshow settings\n",
    "* `Alt+R` to enter slideshow mode\n"
   ]
  },
  {
   "cell_type": "markdown",
   "metadata": {
    "slideshow": {
     "slide_type": "slide"
    }
   },
   "source": [
    "## How Can I Run Jupyter Notebooks?\n",
    "\n",
    "### Full Blown Anaconda on Windows or Mac\n",
    "\n",
    "Jupyter requires Python to be installed.  This is a fine solution but Anaconda is bloated and seems like overkill if you aren't a day-to-day python programmer.  Getting Python working reliably on Windows with `virtualenv`, etc is also a bit difficult and leads to \"it works on my machine\" mentalities.  Seems like there should be a better way. "
   ]
  },
  {
   "cell_type": "markdown",
   "metadata": {
    "slideshow": {
     "slide_type": "slide"
    }
   },
   "source": [
    "## Can I version control Jupyter notebooks?\n",
    "\n",
    "Yes.  \n",
    "\n",
    "* .ipynb files are JSON\n",
    "  * unfortunately the code cells are interspersed with the formatting and results cells, which makes diffs and code reviews quite difficult. \n",
    "* notebooks and notebook servers have the concept of `save and checkpoint` which allows you to version control directly in the Jupyter interface without the need for git during active development.  Consider using checkpoints judiciously.  \n",
    "* most people use something like [Jupytext](https://jupytext.readthedocs.io/en/latest/) which allows you to save ipynb files in txt and .py format.  A simple sync command will sync everything up and allow simpler version controlling\n",
    "* [vscode's python extension](https://code.visualstudio.com/docs/python/jupyter-support) renders a jupyter notebook as good ol .y files\n",
    "* [nbdime](https://nbdime.readthedocs.io/en/latest/) natively understands ipynb files and will diff and merge\n",
    "\n",
    "**There is no built-in \"commit and push to git\" option with Jupyter.**  \n",
    "\n",
    "* There are nbextensions on github.  \n",
    "* If you are running on [Azure Notebooks](notebooks.azure.com) then currently you need to `File -> Download As`.  **Fixed.  You can now do everything from `Terminal`**\n",
    "* If you are running your notebooks on a Jupyter Docker container then you should have no problems properly wiring up git.  \n",
    "\n",
    "To make your life easier consider the following tips:\n",
    "\n",
    "* Generally you don't want to save your output with your notebook, *at least when you are version-controlling your notebook*.  Choose `Cell → All Output → Clear → Save`. \n",
    "* `jupyter nbconvert --to=\"python\"`\n"
   ]
  }
 ],
 "metadata": {
  "celltoolbar": "Slideshow",
  "kernelspec": {
   "display_name": "Python 3.8 - AzureML",
   "language": "python",
   "name": "python38-azureml"
  },
  "language_info": {
   "codemirror_mode": {
    "name": "ipython",
    "version": 3
   },
   "file_extension": ".py",
   "mimetype": "text/x-python",
   "name": "python",
   "nbconvert_exporter": "python",
   "pygments_lexer": "ipython3",
   "version": "3.8.1"
  }
 },
 "nbformat": 4,
 "nbformat_minor": 4
}
