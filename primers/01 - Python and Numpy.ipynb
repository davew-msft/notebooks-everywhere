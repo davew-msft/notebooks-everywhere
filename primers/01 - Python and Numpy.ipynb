{
  "cells": [
    {
      "metadata": {},
      "cell_type": "markdown",
      "source": "# Python and Numpy Basics\n\nPython is a flexible programming language that is used in a wide range of scenarios; from web applications to device programming. It's extremely popular in the data science and artificial intelligence (AI) community. If you're familiar with other programming languages, like Java or Microsoft C#, Python can seem a little confusing at first, This notebook is designed to offer a crash course in some of the key features of the language for existing programmers who are new to Python and the Jupyter notebook environment.\n\n## Getting Help\nOne of the most useful features of Python is its built-in help feature. You can use the **help** function to view documentation for specific commands.\n\nRun the following cell to try it for yourself.\n\n(To run the cell, place the cursor in it and click the  **&#9658;I Run** button. The **&#9711;** symbol next to the **Python 3.6** kernel name at the top right will briefly turn to **&#9899;** while the cell runs before turning back to **&#9711;**.)"
    },
    {
      "metadata": {
        "trusted": true
      },
      "cell_type": "code",
      "source": "help(print)",
      "execution_count": null,
      "outputs": []
    },
    {
      "metadata": {},
      "cell_type": "markdown",
      "source": "Note that the **help** function provides documentation for the class or function you specify. In this case, `help(print)` displays information about the **print** function, including details of its arguments.\n\nThe notebook environment also supports autocomplete. To see how this works,, in the empty cell below type `print('Hello', 'World',` and then press the **Tab** key. This displays a scrollable list of contextual commands that you can use to complete your **print** statement. You can select a command in the list by scrolling to it with the arrow keys and pressing **Enter**, or by clicking it. Try using this technique to select the `sep=` argument to add it to your statement, and then complete the command to read `print('Hello', 'World',sep='\\n')`. Running this command produces the following output:\n>Hello<br/>World"
    },
    {
      "metadata": {
        "trusted": true
      },
      "cell_type": "code",
      "source": "",
      "execution_count": null,
      "outputs": []
    },
    {
      "metadata": {},
      "cell_type": "markdown",
      "source": "## Basics: Variables and Loops\nLet's start with some basics; review the commented code in the following cell, and then run that cell to see the output."
    },
    {
      "metadata": {
        "trusted": true
      },
      "cell_type": "code",
      "source": "# Declare, initialize, and display a variable - No explicit declaration keyword or data type is required\ni = 0\nprint('i: ', i)\n\n# We can use the *type* function to check the data type that has been automatically inferred\nprint(type(i), '\\n')\n\n# Now let's create another variable:\nl = [1,2,3,4,5]\nprint ('l:', l)\nprint (type(l), '\\n')\n\n# And another\nt = (1,2,3,4,5)\nprint ('t:', t)\nprint (type(t), '\\n')\n\n# Now let's modify our variables:\ni = i + 1\nprint('i: ', i)\n\nl = l + [6]\nprint('\\nl: ', l)\n\nt = t + (6,'seven', (1,2), [10,20,30])\nprint('\\nt: ', t)\n\n# l also has an *append* method:\nl.append('seven')\nl.append(t)\nl.append([100,200,300])\nprint('l: ', l)",
      "execution_count": null,
      "outputs": []
    },
    {
      "metadata": {},
      "cell_type": "markdown",
      "source": "Review the output from the code. and note the following:\n* **#** is the prefix for a comment\n* There are no line-end indicators such as **;**\n* Variable declarations require no type - **i** has automatically been detected as an *int*.\n* **l** is a *list* - this is indicated by the use of square brackets around zero or more values.\n* **t** is a *tuple* -  a single row of data with two or more columns\n* For numeric types, arithmetic operators work as expected; so 0 + 1 is 1.\n* For lists and tuples, (and strings), the **+** operator appends values of the same type\n* Lists and tuples are flexible - they can contain a mix of data types, including lists within lists.\n\nSince we've run the previous cell, as long as this notebook session remains active, our variables will still be in scope; so we can do some more work with them in the next cell:"
    },
    {
      "metadata": {
        "trusted": true
      },
      "cell_type": "code",
      "source": "# Create a list explicitly with a range\nnums = list(range(0,7))\nprint  ('nums has %i elements.\\n' %len(nums))\n\n# reset i\ni = 0\n\nprint('nums:')\n\n# loop through the elements of nums by incrementing i\nwhile(i < 7):\n    print(nums[i])\n    i = i + 1\n\nprint('\\nl:')\n# iterate through nums and print the corresponding element of l\nfor num in nums:\n    print('l[%i] = %s' %(num, l[num]))",
      "execution_count": null,
      "outputs": []
    },
    {
      "metadata": {},
      "cell_type": "markdown",
      "source": "## Functions\nNow let's look at how we can use functions to encapsulate reusable code. Again, the following cell assumes that the previous cells in this notebook have been run in this session:"
    },
    {
      "metadata": {
        "trusted": true
      },
      "cell_type": "code",
      "source": "# Function to add a value to a list\ndef add_element (lst, val):\n    lst.append(val)\n    \n# Function to get an element from a list\ndef get_element(lst, idx):\n    val  = lst[idx]\n    return val\n\n# Function to get the maximum element and its index\ndef get_last_element(lst):\n    lst_size = len(lst)\n    lst_end = lst[-1]\n    return lst_size, lst_end\n\n# call add_element\nadd_element(l, 'new element')\nprint(l)\n\n# call get_element\nv = get_element(l,0)\nprint (v)\n\n# call get_last_element\nl_len, l_last = get_last_element(l)\nprint(l_len,': ', l_last)",
      "execution_count": null,
      "outputs": []
    },
    {
      "metadata": {},
      "cell_type": "markdown",
      "source": "Note the following:\n* Functions are defined using the **def** keyword.\n* The code for a function is indented under the **def** declaration.\n* Functions can accept zero or more parameters.\n* Functions can return zero or more outputs."
    },
    {
      "metadata": {},
      "cell_type": "markdown",
      "source": "## Packages\nPython has evolved over a long period of time, and continues to evolve as new *packages* for specialist functionality are developed. Packages are the building blocks of Python. Most commonly used packages are generally pre-installed in most Python distributions, and you can install new packages and manage existing ones using the **pip** and **conda** utilities. You need to use these utilities from a command line / shell, not in python code. In Jupyter notebooks you can use the **!** command to run a shell command, as shown in the following cell:"
    },
    {
      "metadata": {
        "scrolled": false,
        "trusted": true
      },
      "cell_type": "code",
      "source": "# Show pip usage help\n!pip -h\n\nprint('\\n-------------\\n')\n\n# Show conda usage help\n!conda -h\n\nprint('\\n-------------\\n')\n\n# Use pip to install the numpy package\n!pip install numpy",
      "execution_count": null,
      "outputs": []
    },
    {
      "metadata": {},
      "cell_type": "markdown",
      "source": "### Importing package libraries\nAfter installing a package, you can import the modules it contains into your python code to use them. The following cell imports **numpy**, assigning it the alias **np**; and uses it to display the value of &pi;."
    },
    {
      "metadata": {
        "scrolled": true,
        "trusted": true
      },
      "cell_type": "code",
      "source": "import numpy as np\n\nprint(np.pi)",
      "execution_count": null,
      "outputs": []
    },
    {
      "metadata": {},
      "cell_type": "markdown",
      "source": "You can also use the **from**...**import** construct to import specific functions or submodules from a package:"
    },
    {
      "metadata": {
        "scrolled": false,
        "trusted": true
      },
      "cell_type": "code",
      "source": "from numpy import pi\n\nprint(pi)",
      "execution_count": null,
      "outputs": []
    },
    {
      "metadata": {
        "collapsed": true
      },
      "cell_type": "markdown",
      "source": "## Using numpy\nThe **numpy** library is at the core of most machine learning code in Python, so it's worth spending a little time getting to know some of its key objects and functions. As you may have guessed, numpy is specifically designed to work with ***num***bers in ***py***thon; and in particular with vectors and matrices, which are implemented as numpy *arrays*."
    },
    {
      "metadata": {
        "scrolled": false,
        "trusted": true
      },
      "cell_type": "code",
      "source": "# Define a vector as an array\nv = np.array([1,2,3])\nprint(v)\n\n# Define a matrix as a 2D array\nM = np.array([[3,1,4],\n              [2,5,1],\n              [4,6,2]])\nprint('\\n',M)\n\n# Calculate the dot product (Mv)\nprint('\\n',np.dot(M,v))",
      "execution_count": null,
      "outputs": []
    },
    {
      "metadata": {},
      "cell_type": "markdown",
      "source": "Note that:\n* **v** is a one-dimensional array containing three elements.\n* **M** is a two dimensional array containing three arrays, which each contain three elements.\n* You can use numpy to perform linear algebra - in this case, calculating the dot-product of a matrix and a vector. Linear algebra is the foundation for many machine learning operations, which is one reason why numpy is used so extensively in machine learning code.\n\n### Numpy Arrays and Lists\nNumpy arrays are conceptually similar to lists, and you can exchange data between these two structures easily. For example, run the following code to load a three-dimensional list into a numpy array, and then load the first dimension of the array into a list:"
    },
    {
      "metadata": {
        "trusted": true
      },
      "cell_type": "code",
      "source": "l = [[2,6,5],[4,2,3]]\nprint(type(l))\nprint(l)\nprint('\\n')\n\na = np.array(l)\nprint(type(a))\nprint(a)\nprint('\\n')\n\nl2 = list(a[0])\nprint(type(l2))\nprint(l2)",
      "execution_count": null,
      "outputs": []
    },
    {
      "metadata": {},
      "cell_type": "markdown",
      "source": "You may be wondering why we should bother with numpy arrays when we have lists. Well, now that we've got the same data in a list and a numpy array, we can see how they differ in behavior:"
    },
    {
      "metadata": {
        "trusted": true
      },
      "cell_type": "code",
      "source": "# Add two lists\nprint ('l + l2:\\n', l + l2)\n\n# Add an array to a list\nprint ('\\na + l2:\\n', a + l2)",
      "execution_count": null,
      "outputs": []
    },
    {
      "metadata": {},
      "cell_type": "markdown",
      "source": "Adding two lists just appends their elements; but when you add a numpy array to a list, the list is implicitly treated as an array and and elementwise addition is performed. Fundamentally, numpy arrays are designed with linear algebra in mind, wheras lists are simply general purpose multi-element types.\n\n### Manipulating Array Shapes\nArrays are inherently n-dimensional, and provide a lot of flexibility for viewing and manipulating their shape."
    },
    {
      "metadata": {
        "trusted": true
      },
      "cell_type": "code",
      "source": "# View a and its shape\nprint (a)\nprint (a.shape)\n\n# reshape a\nb = np.reshape(a, (3,2))\nprint('\\n',b)\nprint(b.shape)\n\n# flatten a\nr = a.ravel()\nprint('\\n',r)\nprint(r.shape)",
      "execution_count": null,
      "outputs": []
    },
    {
      "metadata": {},
      "cell_type": "markdown",
      "source": "## Working with the File System\nYou'll commonly need to work with files and folders in the file system, and Python includes libraries that enable you to do this as shown in the following code:"
    },
    {
      "metadata": {
        "trusted": true
      },
      "cell_type": "code",
      "source": "import os, shutil\n\n# We'll work with a folder named \"myfolder\" in the folder containing this notebook\nmyfolder = 'myfolder'\n\n# delete it if it already exists\nif os.path.exists(myfolder):\n    print(\"Deleting existing folder..\\n\")\n    shutil.rmtree(myfolder)\n    \n# Create the folder and two subfolders\nos.makedirs(myfolder)\nos.makedirs(os.path.join(myfolder, \"subfolder1\"))\nos.makedirs(os.path.join(myfolder, \"subfolder2\"))\n\n# Create some text files\ni = 0\nfor root, folders, filenames in os.walk(myfolder):\n    with open(os.path.join(root, \"file\" + str(i) + \"txt\"),mode=\"w\") as newfile:\n        newfile.write(\"This is text file\" + str(i))\n    i += 1\n    \n# List the items in the folder (a text file and two subfolders)\nfolder_items = os.listdir(myfolder)\nfor item in folder_items:\n    print(os.path.join(myfolder, item))\n            \nprint(\"\\n\")\n\n# Loop recursively through the folder hierarchy, reading each file\nfor root, folders, filenames in os.walk(myfolder):\n    for file in filenames:\n        file_path = os.path.join(root,file)\n        print(file_path)\n        with open(file_path,mode=\"r\") as txtfile:\n            txt = txtfile.read()\n        print(\"\\t\",txt)",
      "execution_count": null,
      "outputs": []
    },
    {
      "metadata": {},
      "cell_type": "markdown",
      "source": "## Debugging\nPython includes a debugger that you can use to interactively stop code at breakpoints, examine variables, and step through your code. This can be useful as you write more complex Python code, and reduces the need to include lots of `print` statements to monitor variable values.\n\nIn the following code, the line `import pdb; pdb.set_trace()` sets a breakpoint. When you run this cekll, execution will pause at the breakpoint and an interactive textbox will be displayed, enabling you to examine variables and step through the code.\n\n1. Run the cell below, and when the breakpoint is hit, enter `i` in the textbox - this displays the value of the variable **i**.\n2. Enter `c` in the text box to *continue* - the code will run until the breakpoint is hit again. Enter `i` to confirm that the value of **i** has incremented by one.\n3. Enter `n` to move to the *next* line (`i_squared = square(i)`).\n4. Enter `s` to *step* into the next line - this takes you into the **square** function.\n5. For *help*, in the form of a full list of debugging commands, enter `h` in the text box.\n6. Enter `c` again to continue. This should take you to the end of the code (because the next increment of **i** takes it beyond the bounds of the loop)"
    },
    {
      "metadata": {
        "trusted": true
      },
      "cell_type": "code",
      "source": "def square(x):\n    x_squared = x**2\n    return x_squared\n\n\ni = 1\nwhile i < 3:\n    import pdb; pdb.set_trace() # set a breakpoint\n    i_squared = square(i)\n    print(i_squared)\n    i += 1\n    ",
      "execution_count": null,
      "outputs": []
    },
    {
      "metadata": {},
      "cell_type": "markdown",
      "source": "You can also use the debugger to step through code in an entire cell by adding the `%%debug` *magic* command to the beginning of the cell."
    },
    {
      "metadata": {},
      "cell_type": "markdown",
      "source": "## Learn More\nHopefully, this short primer has given you a taste of working with Python. If you need a more thorough introduction, you could try the Python tutorial at http://docs.python.org/3.6/tutorial/"
    }
  ],
  "metadata": {
    "kernelspec": {
      "name": "python36",
      "display_name": "Python 3.6",
      "language": "python"
    },
    "language_info": {
      "mimetype": "text/x-python",
      "nbconvert_exporter": "python",
      "name": "python",
      "pygments_lexer": "ipython3",
      "version": "3.6.6",
      "file_extension": ".py",
      "codemirror_mode": {
        "version": 3,
        "name": "ipython"
      }
    }
  },
  "nbformat": 4,
  "nbformat_minor": 2
}