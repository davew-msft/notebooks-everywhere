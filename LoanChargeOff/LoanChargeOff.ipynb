{
  "cells": [
    {
      "metadata": {
        "collapsed": true
      },
      "cell_type": "markdown",
      "source": "# Predicting Loan Charge Offs\n\nDeutsche Bank provided a de-identified database of loan chargeoffs for a Kaggle competition.  The goal is to determine whether the loan will \"chargeoff\" given the provided data.  The data is very dirty; cleaning it is part of the challenge.  \n\nHere's the thought processes in **Thinking Like a Data Scientist**:\n"
    },
    {
      "metadata": {
        "trusted": true
      },
      "cell_type": "code",
      "source": "## Standard imports\nimport os\nimport pandas as pd\nimport numpy as np\nfrom sklearn import preprocessing,metrics \nfrom IPython.core.display import HTML\npd.set_option(\"display.max_columns\",75)\npd.set_option(\"display.max_rows\",5000)\nimport warnings\nwarnings.filterwarnings('ignore')\nfrom sklearn.model_selection import train_test_split\nfrom sklearn.ensemble import RandomForestClassifier\nfrom sklearn.neighbors import KNeighborsClassifier\nfrom sklearn.metrics import accuracy_score\nimport matplotlib.pyplot as plt\nimport seaborn as sns\n%matplotlib inline\nfrom sklearn import linear_model,svm\nfrom sklearn.metrics import average_precision_score\nfrom sklearn.metrics import precision_recall_curve",
      "execution_count": 52,
      "outputs": []
    },
    {
      "metadata": {},
      "cell_type": "markdown",
      "source": "## Import the Data\n\nWe import the data from github from github to our Azure Notebook, then load that file to a pandas datafame, and take a peek at it."
    },
    {
      "metadata": {
        "trusted": true
      },
      "cell_type": "code",
      "source": "! curl https://git.davewentzel.com/workshops/ai-envisioning/raw/master/datasets/LoansTrainingSet.csv -o ./datasets/LoansTrainingSet.csv",
      "execution_count": 34,
      "outputs": [
        {
          "output_type": "stream",
          "text": "  % Total    % Received % Xferd  Average Speed   Time    Time     Time  Current\n                                 Dload  Upload   Total   Spent    Left  Speed\n100 45.1M  100 45.1M    0     0  1096k      0  0:00:42  0:00:42 --:--:-- 1094k\n",
          "name": "stdout"
        }
      ]
    },
    {
      "metadata": {
        "trusted": true
      },
      "cell_type": "code",
      "source": "df = pd.read_csv('./datasets/LoansTrainingSet.csv')",
      "execution_count": 35,
      "outputs": []
    },
    {
      "metadata": {
        "trusted": true
      },
      "cell_type": "code",
      "source": "df.head()\n",
      "execution_count": 36,
      "outputs": [
        {
          "output_type": "execute_result",
          "execution_count": 36,
          "data": {
            "text/html": "<div>\n<style scoped>\n    .dataframe tbody tr th:only-of-type {\n        vertical-align: middle;\n    }\n\n    .dataframe tbody tr th {\n        vertical-align: top;\n    }\n\n    .dataframe thead th {\n        text-align: right;\n    }\n</style>\n<table border=\"1\" class=\"dataframe\">\n  <thead>\n    <tr style=\"text-align: right;\">\n      <th></th>\n      <th>Loan ID</th>\n      <th>Customer ID</th>\n      <th>Loan Status</th>\n      <th>Current Loan Amount</th>\n      <th>Term</th>\n      <th>Credit Score</th>\n      <th>Years in current job</th>\n      <th>Home Ownership</th>\n      <th>Annual Income</th>\n      <th>Purpose</th>\n      <th>Monthly Debt</th>\n      <th>Years of Credit History</th>\n      <th>Months since last delinquent</th>\n      <th>Number of Open Accounts</th>\n      <th>Number of Credit Problems</th>\n      <th>Current Credit Balance</th>\n      <th>Maximum Open Credit</th>\n      <th>Bankruptcies</th>\n      <th>Tax Liens</th>\n    </tr>\n  </thead>\n  <tbody>\n    <tr>\n      <th>0</th>\n      <td>000025bb-5694-4cff-b17d-192b1a98ba44</td>\n      <td>5ebc8bb1-5eb9-4404-b11b-a6eebc401a19</td>\n      <td>Fully Paid</td>\n      <td>11520</td>\n      <td>Short Term</td>\n      <td>741.0</td>\n      <td>10+ years</td>\n      <td>Home Mortgage</td>\n      <td>33694.0</td>\n      <td>Debt Consolidation</td>\n      <td>$584.03</td>\n      <td>12.3</td>\n      <td>41.0</td>\n      <td>10</td>\n      <td>0</td>\n      <td>6760</td>\n      <td>16056</td>\n      <td>0.0</td>\n      <td>0.0</td>\n    </tr>\n    <tr>\n      <th>1</th>\n      <td>00002c49-3a29-4bd4-8f67-c8f8fbc1048c</td>\n      <td>927b388d-2e01-423f-a8dc-f7e42d668f46</td>\n      <td>Fully Paid</td>\n      <td>3441</td>\n      <td>Short Term</td>\n      <td>734.0</td>\n      <td>4 years</td>\n      <td>Home Mortgage</td>\n      <td>42269.0</td>\n      <td>other</td>\n      <td>$1,106.04</td>\n      <td>26.3</td>\n      <td>NaN</td>\n      <td>17</td>\n      <td>0</td>\n      <td>6262</td>\n      <td>19149</td>\n      <td>0.0</td>\n      <td>0.0</td>\n    </tr>\n    <tr>\n      <th>2</th>\n      <td>00002d89-27f3-409b-aa76-90834f359a65</td>\n      <td>defce609-c631-447d-aad6-1270615e89c4</td>\n      <td>Fully Paid</td>\n      <td>21029</td>\n      <td>Short Term</td>\n      <td>747.0</td>\n      <td>10+ years</td>\n      <td>Home Mortgage</td>\n      <td>90126.0</td>\n      <td>Debt Consolidation</td>\n      <td>$1,321.85</td>\n      <td>28.8</td>\n      <td>NaN</td>\n      <td>5</td>\n      <td>0</td>\n      <td>20967</td>\n      <td>28335</td>\n      <td>0.0</td>\n      <td>0.0</td>\n    </tr>\n    <tr>\n      <th>3</th>\n      <td>00005222-b4d8-45a4-ad8c-186057e24233</td>\n      <td>070bcecb-aae7-4485-a26a-e0403e7bb6c5</td>\n      <td>Fully Paid</td>\n      <td>18743</td>\n      <td>Short Term</td>\n      <td>747.0</td>\n      <td>10+ years</td>\n      <td>Own Home</td>\n      <td>38072.0</td>\n      <td>Debt Consolidation</td>\n      <td>$751.92</td>\n      <td>26.2</td>\n      <td>NaN</td>\n      <td>9</td>\n      <td>0</td>\n      <td>22529</td>\n      <td>43915</td>\n      <td>0.0</td>\n      <td>0.0</td>\n    </tr>\n    <tr>\n      <th>4</th>\n      <td>0000757f-a121-41ed-b17b-162e76647c1f</td>\n      <td>dde79588-12f0-4811-bab0-e2b07f633fcd</td>\n      <td>Fully Paid</td>\n      <td>11731</td>\n      <td>Short Term</td>\n      <td>746.0</td>\n      <td>4 years</td>\n      <td>Rent</td>\n      <td>50025.0</td>\n      <td>Debt Consolidation</td>\n      <td>$355.18</td>\n      <td>11.5</td>\n      <td>NaN</td>\n      <td>12</td>\n      <td>0</td>\n      <td>17391</td>\n      <td>37081</td>\n      <td>0.0</td>\n      <td>0.0</td>\n    </tr>\n  </tbody>\n</table>\n</div>",
            "text/plain": "                                Loan ID                           Customer ID  \\\n0  000025bb-5694-4cff-b17d-192b1a98ba44  5ebc8bb1-5eb9-4404-b11b-a6eebc401a19   \n1  00002c49-3a29-4bd4-8f67-c8f8fbc1048c  927b388d-2e01-423f-a8dc-f7e42d668f46   \n2  00002d89-27f3-409b-aa76-90834f359a65  defce609-c631-447d-aad6-1270615e89c4   \n3  00005222-b4d8-45a4-ad8c-186057e24233  070bcecb-aae7-4485-a26a-e0403e7bb6c5   \n4  0000757f-a121-41ed-b17b-162e76647c1f  dde79588-12f0-4811-bab0-e2b07f633fcd   \n\n  Loan Status  Current Loan Amount        Term  Credit Score  \\\n0  Fully Paid                11520  Short Term         741.0   \n1  Fully Paid                 3441  Short Term         734.0   \n2  Fully Paid                21029  Short Term         747.0   \n3  Fully Paid                18743  Short Term         747.0   \n4  Fully Paid                11731  Short Term         746.0   \n\n  Years in current job Home Ownership  Annual Income             Purpose  \\\n0            10+ years  Home Mortgage        33694.0  Debt Consolidation   \n1              4 years  Home Mortgage        42269.0               other   \n2            10+ years  Home Mortgage        90126.0  Debt Consolidation   \n3            10+ years       Own Home        38072.0  Debt Consolidation   \n4              4 years           Rent        50025.0  Debt Consolidation   \n\n  Monthly Debt  Years of Credit History  Months since last delinquent  \\\n0      $584.03                     12.3                          41.0   \n1   $1,106.04                      26.3                           NaN   \n2   $1,321.85                      28.8                           NaN   \n3      $751.92                     26.2                           NaN   \n4      $355.18                     11.5                           NaN   \n\n   Number of Open Accounts  Number of Credit Problems  Current Credit Balance  \\\n0                       10                          0                    6760   \n1                       17                          0                    6262   \n2                        5                          0                   20967   \n3                        9                          0                   22529   \n4                       12                          0                   17391   \n\n  Maximum Open Credit  Bankruptcies  Tax Liens  \n0               16056           0.0        0.0  \n1               19149           0.0        0.0  \n2               28335           0.0        0.0  \n3               43915           0.0        0.0  \n4               37081           0.0        0.0  "
          },
          "metadata": {}
        }
      ]
    },
    {
      "metadata": {
        "trusted": true
      },
      "cell_type": "code",
      "source": "# the target variable is loan status, let's convert those to a boolean\n# but let's first check that we do in fact have 2 unique statuses\ndf[\"Loan Status\"].unique()\n\n",
      "execution_count": 37,
      "outputs": [
        {
          "output_type": "execute_result",
          "execution_count": 37,
          "data": {
            "text/plain": "array(['Fully Paid', 'Charged Off'], dtype=object)"
          },
          "metadata": {}
        }
      ]
    },
    {
      "metadata": {
        "trusted": true
      },
      "cell_type": "code",
      "source": "target_indicator = {\"Fully Paid\":0,\"Charged Off\":1}\ndf_scrubbed = df.replace({\"Loan Status\": target_indicator})",
      "execution_count": 38,
      "outputs": []
    },
    {
      "metadata": {
        "trusted": true
      },
      "cell_type": "code",
      "source": "df_scrubbed.head()",
      "execution_count": 39,
      "outputs": [
        {
          "output_type": "execute_result",
          "execution_count": 39,
          "data": {
            "text/html": "<div>\n<style scoped>\n    .dataframe tbody tr th:only-of-type {\n        vertical-align: middle;\n    }\n\n    .dataframe tbody tr th {\n        vertical-align: top;\n    }\n\n    .dataframe thead th {\n        text-align: right;\n    }\n</style>\n<table border=\"1\" class=\"dataframe\">\n  <thead>\n    <tr style=\"text-align: right;\">\n      <th></th>\n      <th>Loan ID</th>\n      <th>Customer ID</th>\n      <th>Loan Status</th>\n      <th>Current Loan Amount</th>\n      <th>Term</th>\n      <th>Credit Score</th>\n      <th>Years in current job</th>\n      <th>Home Ownership</th>\n      <th>Annual Income</th>\n      <th>Purpose</th>\n      <th>Monthly Debt</th>\n      <th>Years of Credit History</th>\n      <th>Months since last delinquent</th>\n      <th>Number of Open Accounts</th>\n      <th>Number of Credit Problems</th>\n      <th>Current Credit Balance</th>\n      <th>Maximum Open Credit</th>\n      <th>Bankruptcies</th>\n      <th>Tax Liens</th>\n    </tr>\n  </thead>\n  <tbody>\n    <tr>\n      <th>0</th>\n      <td>000025bb-5694-4cff-b17d-192b1a98ba44</td>\n      <td>5ebc8bb1-5eb9-4404-b11b-a6eebc401a19</td>\n      <td>0</td>\n      <td>11520</td>\n      <td>Short Term</td>\n      <td>741.0</td>\n      <td>10+ years</td>\n      <td>Home Mortgage</td>\n      <td>33694.0</td>\n      <td>Debt Consolidation</td>\n      <td>$584.03</td>\n      <td>12.3</td>\n      <td>41.0</td>\n      <td>10</td>\n      <td>0</td>\n      <td>6760</td>\n      <td>16056</td>\n      <td>0.0</td>\n      <td>0.0</td>\n    </tr>\n    <tr>\n      <th>1</th>\n      <td>00002c49-3a29-4bd4-8f67-c8f8fbc1048c</td>\n      <td>927b388d-2e01-423f-a8dc-f7e42d668f46</td>\n      <td>0</td>\n      <td>3441</td>\n      <td>Short Term</td>\n      <td>734.0</td>\n      <td>4 years</td>\n      <td>Home Mortgage</td>\n      <td>42269.0</td>\n      <td>other</td>\n      <td>$1,106.04</td>\n      <td>26.3</td>\n      <td>NaN</td>\n      <td>17</td>\n      <td>0</td>\n      <td>6262</td>\n      <td>19149</td>\n      <td>0.0</td>\n      <td>0.0</td>\n    </tr>\n    <tr>\n      <th>2</th>\n      <td>00002d89-27f3-409b-aa76-90834f359a65</td>\n      <td>defce609-c631-447d-aad6-1270615e89c4</td>\n      <td>0</td>\n      <td>21029</td>\n      <td>Short Term</td>\n      <td>747.0</td>\n      <td>10+ years</td>\n      <td>Home Mortgage</td>\n      <td>90126.0</td>\n      <td>Debt Consolidation</td>\n      <td>$1,321.85</td>\n      <td>28.8</td>\n      <td>NaN</td>\n      <td>5</td>\n      <td>0</td>\n      <td>20967</td>\n      <td>28335</td>\n      <td>0.0</td>\n      <td>0.0</td>\n    </tr>\n    <tr>\n      <th>3</th>\n      <td>00005222-b4d8-45a4-ad8c-186057e24233</td>\n      <td>070bcecb-aae7-4485-a26a-e0403e7bb6c5</td>\n      <td>0</td>\n      <td>18743</td>\n      <td>Short Term</td>\n      <td>747.0</td>\n      <td>10+ years</td>\n      <td>Own Home</td>\n      <td>38072.0</td>\n      <td>Debt Consolidation</td>\n      <td>$751.92</td>\n      <td>26.2</td>\n      <td>NaN</td>\n      <td>9</td>\n      <td>0</td>\n      <td>22529</td>\n      <td>43915</td>\n      <td>0.0</td>\n      <td>0.0</td>\n    </tr>\n    <tr>\n      <th>4</th>\n      <td>0000757f-a121-41ed-b17b-162e76647c1f</td>\n      <td>dde79588-12f0-4811-bab0-e2b07f633fcd</td>\n      <td>0</td>\n      <td>11731</td>\n      <td>Short Term</td>\n      <td>746.0</td>\n      <td>4 years</td>\n      <td>Rent</td>\n      <td>50025.0</td>\n      <td>Debt Consolidation</td>\n      <td>$355.18</td>\n      <td>11.5</td>\n      <td>NaN</td>\n      <td>12</td>\n      <td>0</td>\n      <td>17391</td>\n      <td>37081</td>\n      <td>0.0</td>\n      <td>0.0</td>\n    </tr>\n  </tbody>\n</table>\n</div>",
            "text/plain": "                                Loan ID                           Customer ID  \\\n0  000025bb-5694-4cff-b17d-192b1a98ba44  5ebc8bb1-5eb9-4404-b11b-a6eebc401a19   \n1  00002c49-3a29-4bd4-8f67-c8f8fbc1048c  927b388d-2e01-423f-a8dc-f7e42d668f46   \n2  00002d89-27f3-409b-aa76-90834f359a65  defce609-c631-447d-aad6-1270615e89c4   \n3  00005222-b4d8-45a4-ad8c-186057e24233  070bcecb-aae7-4485-a26a-e0403e7bb6c5   \n4  0000757f-a121-41ed-b17b-162e76647c1f  dde79588-12f0-4811-bab0-e2b07f633fcd   \n\n   Loan Status  Current Loan Amount        Term  Credit Score  \\\n0            0                11520  Short Term         741.0   \n1            0                 3441  Short Term         734.0   \n2            0                21029  Short Term         747.0   \n3            0                18743  Short Term         747.0   \n4            0                11731  Short Term         746.0   \n\n  Years in current job Home Ownership  Annual Income             Purpose  \\\n0            10+ years  Home Mortgage        33694.0  Debt Consolidation   \n1              4 years  Home Mortgage        42269.0               other   \n2            10+ years  Home Mortgage        90126.0  Debt Consolidation   \n3            10+ years       Own Home        38072.0  Debt Consolidation   \n4              4 years           Rent        50025.0  Debt Consolidation   \n\n  Monthly Debt  Years of Credit History  Months since last delinquent  \\\n0      $584.03                     12.3                          41.0   \n1   $1,106.04                      26.3                           NaN   \n2   $1,321.85                      28.8                           NaN   \n3      $751.92                     26.2                           NaN   \n4      $355.18                     11.5                           NaN   \n\n   Number of Open Accounts  Number of Credit Problems  Current Credit Balance  \\\n0                       10                          0                    6760   \n1                       17                          0                    6262   \n2                        5                          0                   20967   \n3                        9                          0                   22529   \n4                       12                          0                   17391   \n\n  Maximum Open Credit  Bankruptcies  Tax Liens  \n0               16056           0.0        0.0  \n1               19149           0.0        0.0  \n2               28335           0.0        0.0  \n3               43915           0.0        0.0  \n4               37081           0.0        0.0  "
          },
          "metadata": {}
        }
      ]
    },
    {
      "metadata": {
        "trusted": true
      },
      "cell_type": "code",
      "source": "# let's look at some metrics\ndf_scrubbed['Loan Status'].value_counts()",
      "execution_count": 40,
      "outputs": [
        {
          "output_type": "execute_result",
          "execution_count": 40,
          "data": {
            "text/plain": "0    176191\n1     80793\nName: Loan Status, dtype: int64"
          },
          "metadata": {}
        }
      ]
    },
    {
      "metadata": {
        "trusted": true
      },
      "cell_type": "code",
      "source": "print (\"Current shape of dataset: \",df_scrubbed.shape)",
      "execution_count": 41,
      "outputs": [
        {
          "output_type": "stream",
          "text": "Current shape of dataset:  (256984, 19)\n",
          "name": "stdout"
        }
      ]
    },
    {
      "metadata": {},
      "cell_type": "markdown",
      "source": "## Feature Engineering\n\nAt this point we do a bunch of feature engineering to determine what are the most predictive features.\n\nThis usually means eliminating some of the supplied data and \"ETLing\" other data."
    },
    {
      "metadata": {
        "trusted": true
      },
      "cell_type": "code",
      "source": "# let's git rid of columns that we don't think are predictive of Chargeoffs at this time\n# this also keeps the example _very_ simple\ndel_col_names = [\n    \"Customer ID\",\n    \"Current Loan Amount\",\n    \"Years in current job\",\n    \"Annual Income\",\n    \"Purpose\",\n    \"Years of Credit History\",\n    \"Months since last delinquent\",\n    \"Number of Open Accounts\",\n    \"Number of Credit Problems\",\n    \"Current Credit Balance\",\n    \"Bankruptcies\",\n    \"Tax Liens\"]\ndf_scrubbed1 = df_scrubbed.drop(labels=del_col_names,axis = 1)\nprint (\"Current shape of dataset: \",df_scrubbed1.shape)",
      "execution_count": 43,
      "outputs": [
        {
          "output_type": "stream",
          "text": "Current shape of dataset:  (256984, 7)\n",
          "name": "stdout"
        }
      ]
    },
    {
      "metadata": {
        "trusted": true
      },
      "cell_type": "code",
      "source": "df_scrubbed1.head()",
      "execution_count": 44,
      "outputs": [
        {
          "output_type": "execute_result",
          "execution_count": 44,
          "data": {
            "text/html": "<div>\n<style scoped>\n    .dataframe tbody tr th:only-of-type {\n        vertical-align: middle;\n    }\n\n    .dataframe tbody tr th {\n        vertical-align: top;\n    }\n\n    .dataframe thead th {\n        text-align: right;\n    }\n</style>\n<table border=\"1\" class=\"dataframe\">\n  <thead>\n    <tr style=\"text-align: right;\">\n      <th></th>\n      <th>Loan ID</th>\n      <th>Loan Status</th>\n      <th>Term</th>\n      <th>Credit Score</th>\n      <th>Home Ownership</th>\n      <th>Monthly Debt</th>\n      <th>Maximum Open Credit</th>\n    </tr>\n  </thead>\n  <tbody>\n    <tr>\n      <th>0</th>\n      <td>000025bb-5694-4cff-b17d-192b1a98ba44</td>\n      <td>0</td>\n      <td>Short Term</td>\n      <td>741.0</td>\n      <td>Home Mortgage</td>\n      <td>$584.03</td>\n      <td>16056</td>\n    </tr>\n    <tr>\n      <th>1</th>\n      <td>00002c49-3a29-4bd4-8f67-c8f8fbc1048c</td>\n      <td>0</td>\n      <td>Short Term</td>\n      <td>734.0</td>\n      <td>Home Mortgage</td>\n      <td>$1,106.04</td>\n      <td>19149</td>\n    </tr>\n    <tr>\n      <th>2</th>\n      <td>00002d89-27f3-409b-aa76-90834f359a65</td>\n      <td>0</td>\n      <td>Short Term</td>\n      <td>747.0</td>\n      <td>Home Mortgage</td>\n      <td>$1,321.85</td>\n      <td>28335</td>\n    </tr>\n    <tr>\n      <th>3</th>\n      <td>00005222-b4d8-45a4-ad8c-186057e24233</td>\n      <td>0</td>\n      <td>Short Term</td>\n      <td>747.0</td>\n      <td>Own Home</td>\n      <td>$751.92</td>\n      <td>43915</td>\n    </tr>\n    <tr>\n      <th>4</th>\n      <td>0000757f-a121-41ed-b17b-162e76647c1f</td>\n      <td>0</td>\n      <td>Short Term</td>\n      <td>746.0</td>\n      <td>Rent</td>\n      <td>$355.18</td>\n      <td>37081</td>\n    </tr>\n  </tbody>\n</table>\n</div>",
            "text/plain": "                                Loan ID  Loan Status        Term  \\\n0  000025bb-5694-4cff-b17d-192b1a98ba44            0  Short Term   \n1  00002c49-3a29-4bd4-8f67-c8f8fbc1048c            0  Short Term   \n2  00002d89-27f3-409b-aa76-90834f359a65            0  Short Term   \n3  00005222-b4d8-45a4-ad8c-186057e24233            0  Short Term   \n4  0000757f-a121-41ed-b17b-162e76647c1f            0  Short Term   \n\n   Credit Score Home Ownership Monthly Debt Maximum Open Credit  \n0         741.0  Home Mortgage      $584.03               16056  \n1         734.0  Home Mortgage   $1,106.04                19149  \n2         747.0  Home Mortgage   $1,321.85                28335  \n3         747.0       Own Home      $751.92               43915  \n4         746.0           Rent      $355.18               37081  "
          },
          "metadata": {}
        }
      ]
    },
    {
      "metadata": {},
      "cell_type": "markdown",
      "source": "### Credit Score analysis\n\nLet's see if we need to clean Credit Score.\n\nValid FICO scores range from 300-850.  Generally:\n\n* 300-579: poor\n* 580-669: fair\n* 670-739: good\n* 740-850: exceptional\n"
    },
    {
      "metadata": {
        "trusted": true
      },
      "cell_type": "code",
      "source": "display(df_scrubbed1['Credit Score'].value_counts().sort_index())",
      "execution_count": 53,
      "outputs": [
        {
          "output_type": "display_data",
          "data": {
            "text/plain": "585.0       18\n586.0       25\n587.0       23\n588.0       20\n589.0       15\n590.0       18\n591.0       15\n592.0       23\n593.0       17\n594.0       29\n595.0       30\n596.0       30\n597.0       31\n598.0       22\n599.0       21\n600.0       36\n601.0       41\n602.0       33\n603.0       24\n604.0       36\n605.0       36\n606.0       25\n607.0       33\n608.0       47\n609.0       40\n610.0       51\n611.0       54\n612.0       37\n613.0       50\n614.0       53\n615.0       44\n616.0       74\n617.0       59\n618.0       78\n619.0       68\n620.0       63\n621.0       90\n622.0       70\n623.0       48\n624.0       79\n625.0      109\n626.0       87\n627.0       97\n628.0      103\n629.0       81\n630.0       92\n631.0       77\n632.0       91\n633.0      131\n634.0       98\n635.0      124\n636.0      112\n637.0      108\n638.0      111\n639.0      139\n640.0      164\n641.0      146\n642.0      164\n643.0      154\n644.0      150\n645.0      172\n646.0      166\n647.0      183\n648.0      184\n649.0      186\n650.0      206\n651.0      219\n652.0      211\n653.0      225\n654.0      252\n655.0      260\n656.0      276\n657.0      269\n658.0      260\n659.0      274\n660.0      284\n661.0      322\n662.0      305\n663.0      347\n664.0      332\n665.0      321\n666.0      319\n667.0      373\n668.0      381\n669.0      398\n670.0      402\n671.0      397\n672.0      389\n673.0      419\n674.0      510\n675.0      464\n676.0      494\n677.0      451\n678.0      435\n679.0      480\n680.0      607\n681.0      572\n682.0      586\n683.0      630\n684.0      625\n685.0      558\n686.0      628\n687.0      644\n688.0      653\n689.0      648\n690.0      626\n691.0      671\n692.0      829\n693.0      883\n694.0      858\n695.0      825\n696.0      808\n697.0      976\n698.0     1003\n699.0     1142\n700.0     1079\n701.0     1053\n702.0     1116\n703.0     1254\n704.0     1262\n705.0     1236\n706.0     1256\n707.0     1355\n708.0     1404\n709.0     1392\n710.0     1337\n711.0     1376\n712.0     1630\n713.0     1709\n714.0     1720\n715.0     1675\n716.0     1818\n717.0     1936\n718.0     1944\n719.0     1991\n720.0     2093\n721.0     2399\n722.0     2285\n723.0     2284\n724.0     2441\n725.0     2513\n726.0     2627\n727.0     2611\n728.0     2930\n729.0     3145\n730.0     3058\n731.0     3267\n732.0     3468\n733.0     3517\n734.0     3618\n735.0     3608\n736.0     3600\n737.0     4592\n738.0     4598\n739.0     5105\n740.0     5537\n741.0     5499\n742.0     5219\n743.0     5082\n744.0     4739\n745.0     5061\n746.0     5486\n747.0     5669\n748.0     4773\n749.0     2652\n750.0     3854\n751.0     2366\n5850.0       3\n5860.0       1\n5870.0       4\n5880.0       4\n5890.0       7\n5900.0       4\n5910.0       3\n5920.0       4\n5930.0       2\n5940.0       3\n5950.0       5\n5960.0       5\n5970.0       7\n5980.0       3\n5990.0       3\n6000.0       3\n6010.0       8\n6020.0      10\n6030.0       4\n6040.0       7\n6050.0       5\n6060.0       7\n6070.0       3\n6080.0      11\n6090.0       5\n6100.0      15\n6110.0      11\n6120.0       3\n6130.0      12\n6140.0       4\n6150.0      11\n6160.0      14\n6170.0      12\n6180.0      14\n6190.0      15\n6200.0      14\n6210.0      17\n6220.0      17\n6230.0      16\n6240.0      22\n6250.0      17\n6260.0      10\n6270.0      19\n6280.0      17\n6290.0      17\n6300.0      28\n6310.0      11\n6320.0      24\n6330.0      15\n6340.0      11\n6350.0      28\n6360.0      20\n6370.0      19\n6380.0      32\n6390.0      25\n6400.0      35\n6410.0      24\n6420.0      22\n6430.0      29\n6440.0      28\n6450.0      35\n6460.0      37\n6470.0      34\n6480.0      32\n6490.0      41\n6500.0      33\n6510.0      48\n6520.0      23\n6530.0      34\n6540.0      35\n6550.0      35\n6560.0      32\n6570.0      47\n6580.0      48\n6590.0      43\n6600.0      55\n6610.0      50\n6620.0      53\n6630.0      52\n6640.0      42\n6650.0      57\n6660.0      62\n6670.0      61\n6680.0      59\n6690.0      69\n6700.0      61\n6710.0      76\n6720.0      78\n6730.0      65\n6740.0      91\n6750.0      66\n6760.0      59\n6770.0      71\n6780.0      77\n6790.0      88\n6800.0      93\n6810.0      70\n6820.0      75\n6830.0      99\n6840.0     102\n6850.0     102\n6860.0     108\n6870.0      81\n6880.0      91\n6890.0     105\n6900.0      95\n6910.0      86\n6920.0     123\n6930.0     112\n6940.0     116\n6950.0     104\n6960.0     130\n6970.0     141\n6980.0     137\n6990.0     154\n7000.0     137\n7010.0     190\n7020.0     145\n7030.0     150\n7040.0     145\n7050.0     138\n7060.0     136\n7070.0     163\n7080.0     165\n7090.0     152\n7100.0     154\n7110.0     175\n7120.0     206\n7130.0     227\n7140.0     177\n7150.0     190\n7160.0     217\n7170.0     202\n7180.0     199\n7190.0     210\n7200.0     254\n7210.0     278\n7220.0     237\n7230.0     230\n7240.0     257\n7250.0     218\n7260.0     256\n7270.0     274\n7280.0     272\n7290.0     294\n7300.0     266\n7310.0     270\n7320.0     272\n7330.0     277\n7340.0     269\n7350.0     269\n7360.0     297\n7370.0     326\n7380.0     326\n7390.0     307\n7400.0     340\n7410.0     344\n7420.0     312\n7430.0     302\n7440.0     233\n7450.0     227\n7460.0     250\n7470.0     193\n7480.0     153\n7490.0      72\n7500.0      74\n7510.0      38\nName: Credit Score, dtype: int64"
          },
          "metadata": {}
        }
      ]
    },
    {
      "metadata": {},
      "cell_type": "markdown",
      "source": "### Outliers \n\nNote that we have some outliers.  What we should do is figure out why those outliers exist.  Or we can \"impute\" values.  For now, let's just drop the bad data\n\n\n"
    },
    {
      "metadata": {
        "trusted": true
      },
      "cell_type": "code",
      "source": "df_scrubbed2 = df_scrubbed1[df_scrubbed1['Credit Score'] <= 850] ",
      "execution_count": 59,
      "outputs": []
    },
    {
      "metadata": {
        "trusted": true
      },
      "cell_type": "code",
      "source": "print (\"Current shape of dataset: \",df_scrubbed2.shape)",
      "execution_count": 60,
      "outputs": [
        {
          "output_type": "stream",
          "text": "Current shape of dataset:  (179121, 7)\n",
          "name": "stdout"
        }
      ]
    },
    {
      "metadata": {
        "trusted": true
      },
      "cell_type": "code",
      "source": "df_scrubbed2.head()",
      "execution_count": 61,
      "outputs": [
        {
          "output_type": "execute_result",
          "execution_count": 61,
          "data": {
            "text/html": "<div>\n<style scoped>\n    .dataframe tbody tr th:only-of-type {\n        vertical-align: middle;\n    }\n\n    .dataframe tbody tr th {\n        vertical-align: top;\n    }\n\n    .dataframe thead th {\n        text-align: right;\n    }\n</style>\n<table border=\"1\" class=\"dataframe\">\n  <thead>\n    <tr style=\"text-align: right;\">\n      <th></th>\n      <th>Loan ID</th>\n      <th>Loan Status</th>\n      <th>Term</th>\n      <th>Credit Score</th>\n      <th>Home Ownership</th>\n      <th>Monthly Debt</th>\n      <th>Maximum Open Credit</th>\n    </tr>\n  </thead>\n  <tbody>\n    <tr>\n      <th>0</th>\n      <td>000025bb-5694-4cff-b17d-192b1a98ba44</td>\n      <td>0</td>\n      <td>Short Term</td>\n      <td>741.0</td>\n      <td>Home Mortgage</td>\n      <td>$584.03</td>\n      <td>16056</td>\n    </tr>\n    <tr>\n      <th>1</th>\n      <td>00002c49-3a29-4bd4-8f67-c8f8fbc1048c</td>\n      <td>0</td>\n      <td>Short Term</td>\n      <td>734.0</td>\n      <td>Home Mortgage</td>\n      <td>$1,106.04</td>\n      <td>19149</td>\n    </tr>\n    <tr>\n      <th>2</th>\n      <td>00002d89-27f3-409b-aa76-90834f359a65</td>\n      <td>0</td>\n      <td>Short Term</td>\n      <td>747.0</td>\n      <td>Home Mortgage</td>\n      <td>$1,321.85</td>\n      <td>28335</td>\n    </tr>\n    <tr>\n      <th>3</th>\n      <td>00005222-b4d8-45a4-ad8c-186057e24233</td>\n      <td>0</td>\n      <td>Short Term</td>\n      <td>747.0</td>\n      <td>Own Home</td>\n      <td>$751.92</td>\n      <td>43915</td>\n    </tr>\n    <tr>\n      <th>4</th>\n      <td>0000757f-a121-41ed-b17b-162e76647c1f</td>\n      <td>0</td>\n      <td>Short Term</td>\n      <td>746.0</td>\n      <td>Rent</td>\n      <td>$355.18</td>\n      <td>37081</td>\n    </tr>\n  </tbody>\n</table>\n</div>",
            "text/plain": "                                Loan ID  Loan Status        Term  \\\n0  000025bb-5694-4cff-b17d-192b1a98ba44            0  Short Term   \n1  00002c49-3a29-4bd4-8f67-c8f8fbc1048c            0  Short Term   \n2  00002d89-27f3-409b-aa76-90834f359a65            0  Short Term   \n3  00005222-b4d8-45a4-ad8c-186057e24233            0  Short Term   \n4  0000757f-a121-41ed-b17b-162e76647c1f            0  Short Term   \n\n   Credit Score Home Ownership Monthly Debt Maximum Open Credit  \n0         741.0  Home Mortgage      $584.03               16056  \n1         734.0  Home Mortgage   $1,106.04                19149  \n2         747.0  Home Mortgage   $1,321.85                28335  \n3         747.0       Own Home      $751.92               43915  \n4         746.0           Rent      $355.18               37081  "
          },
          "metadata": {}
        }
      ]
    },
    {
      "metadata": {},
      "cell_type": "markdown",
      "source": "### Binning the Credit Score\n\nBinning is a good way to take a continuous variable and make it categorical"
    },
    {
      "metadata": {
        "trusted": true
      },
      "cell_type": "code",
      "source": "df_scrubbed2['Credit Score Bin'] = pd.cut(df_scrubbed2['Credit Score'],[300,580,670,740]) 0,",
      "execution_count": 62,
      "outputs": []
    },
    {
      "metadata": {
        "trusted": true
      },
      "cell_type": "code",
      "source": "df_scrubbed2.head()",
      "execution_count": 64,
      "outputs": [
        {
          "output_type": "execute_result",
          "execution_count": 64,
          "data": {
            "text/html": "<div>\n<style scoped>\n    .dataframe tbody tr th:only-of-type {\n        vertical-align: middle;\n    }\n\n    .dataframe tbody tr th {\n        vertical-align: top;\n    }\n\n    .dataframe thead th {\n        text-align: right;\n    }\n</style>\n<table border=\"1\" class=\"dataframe\">\n  <thead>\n    <tr style=\"text-align: right;\">\n      <th></th>\n      <th>Loan ID</th>\n      <th>Loan Status</th>\n      <th>Term</th>\n      <th>Credit Score</th>\n      <th>Home Ownership</th>\n      <th>Monthly Debt</th>\n      <th>Maximum Open Credit</th>\n      <th>Credit Score Bin</th>\n    </tr>\n  </thead>\n  <tbody>\n    <tr>\n      <th>0</th>\n      <td>000025bb-5694-4cff-b17d-192b1a98ba44</td>\n      <td>0</td>\n      <td>Short Term</td>\n      <td>741.0</td>\n      <td>Home Mortgage</td>\n      <td>$584.03</td>\n      <td>16056</td>\n      <td>NaN</td>\n    </tr>\n    <tr>\n      <th>1</th>\n      <td>00002c49-3a29-4bd4-8f67-c8f8fbc1048c</td>\n      <td>0</td>\n      <td>Short Term</td>\n      <td>734.0</td>\n      <td>Home Mortgage</td>\n      <td>$1,106.04</td>\n      <td>19149</td>\n      <td>(670, 740]</td>\n    </tr>\n    <tr>\n      <th>2</th>\n      <td>00002d89-27f3-409b-aa76-90834f359a65</td>\n      <td>0</td>\n      <td>Short Term</td>\n      <td>747.0</td>\n      <td>Home Mortgage</td>\n      <td>$1,321.85</td>\n      <td>28335</td>\n      <td>NaN</td>\n    </tr>\n    <tr>\n      <th>3</th>\n      <td>00005222-b4d8-45a4-ad8c-186057e24233</td>\n      <td>0</td>\n      <td>Short Term</td>\n      <td>747.0</td>\n      <td>Own Home</td>\n      <td>$751.92</td>\n      <td>43915</td>\n      <td>NaN</td>\n    </tr>\n    <tr>\n      <th>4</th>\n      <td>0000757f-a121-41ed-b17b-162e76647c1f</td>\n      <td>0</td>\n      <td>Short Term</td>\n      <td>746.0</td>\n      <td>Rent</td>\n      <td>$355.18</td>\n      <td>37081</td>\n      <td>NaN</td>\n    </tr>\n  </tbody>\n</table>\n</div>",
            "text/plain": "                                Loan ID  Loan Status        Term  \\\n0  000025bb-5694-4cff-b17d-192b1a98ba44            0  Short Term   \n1  00002c49-3a29-4bd4-8f67-c8f8fbc1048c            0  Short Term   \n2  00002d89-27f3-409b-aa76-90834f359a65            0  Short Term   \n3  00005222-b4d8-45a4-ad8c-186057e24233            0  Short Term   \n4  0000757f-a121-41ed-b17b-162e76647c1f            0  Short Term   \n\n   Credit Score Home Ownership Monthly Debt Maximum Open Credit  \\\n0         741.0  Home Mortgage      $584.03               16056   \n1         734.0  Home Mortgage   $1,106.04                19149   \n2         747.0  Home Mortgage   $1,321.85                28335   \n3         747.0       Own Home      $751.92               43915   \n4         746.0           Rent      $355.18               37081   \n\n  Credit Score Bin  \n0              NaN  \n1       (670, 740]  \n2              NaN  \n3              NaN  \n4              NaN  "
          },
          "metadata": {}
        }
      ]
    },
    {
      "metadata": {
        "trusted": true
      },
      "cell_type": "code",
      "source": "",
      "execution_count": null,
      "outputs": []
    }
  ],
  "metadata": {
    "kernelspec": {
      "name": "python36",
      "display_name": "Python 3.6",
      "language": "python"
    },
    "language_info": {
      "mimetype": "text/x-python",
      "nbconvert_exporter": "python",
      "name": "python",
      "pygments_lexer": "ipython3",
      "version": "3.6.6",
      "file_extension": ".py",
      "codemirror_mode": {
        "version": 3,
        "name": "ipython"
      }
    }
  },
  "nbformat": 4,
  "nbformat_minor": 2
}