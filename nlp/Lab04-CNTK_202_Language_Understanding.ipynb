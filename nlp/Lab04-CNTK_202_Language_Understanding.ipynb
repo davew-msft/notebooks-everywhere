{
  "cells": [
    {
      "metadata": {},
      "cell_type": "markdown",
      "source": "# CNTK 202: Language Understanding with Recurrent Networks\n\nThis tutorial shows how to implement a recurrent network to process text,\nfor the [Air Travel Information Services](https://catalog.ldc.upenn.edu/LDC95S26) \n(ATIS) task of slot tagging (tag individual words to their respective classes, \nwhere the classes are provided as labels in the training data set).\nWe will start with a straight-forward (linear) embedding of the words followed by a recurrent LSTM.\nThis will then be extended to include neighboring words and run bidirectionally.\nLastly, we will turn this system into an intent classifier.  \n\nThe techniques you will practice are:\n* model description by composing layer blocks, a convenient way to compose \n  networks/models without requiring the need to write formulas,\n* creating your own layer block\n* variables with different sequence lengths in the same network\n* training the network\n\nWe assume that you are familiar with basics of deep learning, and these specific concepts:\n* recurrent networks ([Wikipedia page](https://en.wikipedia.org/wiki/Recurrent_neural_network))\n* text embedding ([Wikipedia page](https://en.wikipedia.org/wiki/Word_embedding))\n\n### Prerequisites\n\nWe assume that you have already [installed CNTK](https://docs.microsoft.com/en-us/cognitive-toolkit/Setup-CNTK-on-your-machine).\nThis tutorial requires CNTK V2. We strongly recommend to run this tutorial on a machine with\na capable CUDA-compatible GPU. Deep learning without GPUs is not fun."
    },
    {
      "metadata": {},
      "cell_type": "markdown",
      "source": "#### Downloading the data\n\nIn this tutorial we are going to use a (lightly preprocessed) version of the ATIS dataset. You can download the data automatically by running the cells below or by executing the manual instructions.\n\n#### Fallback manual instructions\nDownload the ATIS [training](https://github.com/Microsoft/CNTK/blob/v2.0/Tutorials/SLUHandsOn/atis.train.ctf) \nand [test](https://github.com/Microsoft/CNTK/blob/v2.0/Tutorials/SLUHandsOn/atis.test.ctf) \nfiles and put them at the same folder as this notebook. If you want to see how the model is \npredicting on new sentences you will also need the vocabulary files for \n[queries](https://github.com/Microsoft/CNTK/blob/v2.0/Examples/LanguageUnderstanding/ATIS/BrainScript/query.wl) and\n[slots](https://github.com/Microsoft/CNTK/blob/v2.0/Examples/LanguageUnderstanding/ATIS/BrainScript/slots.wl)"
    },
    {
      "metadata": {
        "trusted": true
      },
      "cell_type": "code",
      "source": "from __future__ import print_function # Use a function definition from future version (say 3.x from 2.7 interpreter)\nimport requests\nimport os\n\ndef download(url, filename):\n    \"\"\" utility function to download a file \"\"\"\n    response = requests.get(url, stream=True)\n    with open(filename, \"wb\") as handle:\n        for data in response.iter_content():\n            handle.write(data)\n\nlocations = ['Tutorials/SLUHandsOn', 'Examples/LanguageUnderstanding/ATIS/BrainScript']\n\ndata = {\n  'train': { 'file': 'atis.train.ctf', 'location': 0 },\n  'test': { 'file': 'atis.test.ctf', 'location': 0 },\n  'query': { 'file': 'query.wl', 'location': 1 },\n  'slots': { 'file': 'slots.wl', 'location': 1 }\n}\n\nfor item in data.values():\n    location = locations[item['location']]\n    path = os.path.join('..', location, item['file'])\n    if os.path.exists(path):\n        print(\"Reusing locally cached:\", item['file'])\n        # Update path\n        item['file'] = path\n    elif os.path.exists(item['file']):\n        print(\"Reusing locally cached:\", item['file'])\n    else:\n        print(\"Starting download:\", item['file'])\n        url = \"https://github.com/Microsoft/CNTK/blob/v2.0/%s/%s?raw=true\"%(location, item['file'])\n        download(url, item['file'])\n        print(\"Download completed\")\n",
      "execution_count": 1,
      "outputs": [
        {
          "output_type": "stream",
          "text": "Reusing locally cached: query.wl\nReusing locally cached: atis.train.ctf\nReusing locally cached: slots.wl\nReusing locally cached: atis.test.ctf\n",
          "name": "stdout"
        }
      ]
    },
    {
      "metadata": {},
      "cell_type": "markdown",
      "source": "#### Importing CNTK and other useful libraries\n\nCNTK's Python module contains several submodules like `io`, `learner`, and `layers`. We also use NumPy in some cases since the results returned by CNTK work like NumPy arrays."
    },
    {
      "metadata": {
        "trusted": true
      },
      "cell_type": "code",
      "source": "import math\nimport numpy as np\n\nimport cntk as C",
      "execution_count": 2,
      "outputs": []
    },
    {
      "metadata": {},
      "cell_type": "markdown",
      "source": "In the block below, we check if we are running this notebook in the CNTK internal test machines by looking for environment variables defined there. We then select the right target device (GPU vs CPU) to test this notebook. In other cases, we use CNTK's default policy to use the best available device (GPU, if available, else CPU)."
    },
    {
      "metadata": {
        "trusted": true
      },
      "cell_type": "code",
      "source": "# Select the right target device when this notebook is being tested:\nif 'TEST_DEVICE' in os.environ:\n    if os.environ['TEST_DEVICE'] == 'cpu':\n        C.device.try_set_default_device(C.device.cpu())\n    else:\n        C.device.try_set_default_device(C.device.gpu(0))",
      "execution_count": 3,
      "outputs": []
    },
    {
      "metadata": {},
      "cell_type": "markdown",
      "source": "## Task and Model Structure\n\nThe task we want to approach in this tutorial is slot tagging.\nWe use the [ATIS corpus](https://catalog.ldc.upenn.edu/LDC95S26).\nATIS contains human-computer queries from the domain of Air Travel Information Services,\nand our task will be to annotate (tag) each word of a query whether it belongs to a\nspecific item of information (slot), and which one.\n\nThe data in your working folder has already been converted into the \"CNTK Text Format.\"\nLet us look at an example from the test-set file `atis.test.ctf`:\n\n    19  |S0 178:1 |# BOS      |S1 14:1 |# flight  |S2 128:1 |# O\n    19  |S0 770:1 |# show                         |S2 128:1 |# O\n    19  |S0 429:1 |# flights                      |S2 128:1 |# O\n    19  |S0 444:1 |# from                         |S2 128:1 |# O\n    19  |S0 272:1 |# burbank                      |S2 48:1  |# B-fromloc.city_name\n    19  |S0 851:1 |# to                           |S2 128:1 |# O\n    19  |S0 789:1 |# st.                          |S2 78:1  |# B-toloc.city_name\n    19  |S0 564:1 |# louis                        |S2 125:1 |# I-toloc.city_name\n    19  |S0 654:1 |# on                           |S2 128:1 |# O\n    19  |S0 601:1 |# monday                       |S2 26:1  |# B-depart_date.day_name\n    19  |S0 179:1 |# EOS                          |S2 128:1 |# O\n\nThis file has 7 columns:\n\n* a sequence id (19). There are 11 entries with this sequence id. This means that sequence 19 consists\nof 11 tokens;\n* column `S0`, which contains numeric word indices; the input data is encoded in one-hot vectors.  There are 943 words in the vocabulary, so each word is a 943 element vector of all 0 with a 1 at a vector index chosen to represent that word.  For example the word \"from\" is represented with a 1 at index 444 and zero everywhere else in the vector. The word \"monday\" is represented with a 1 at index 601 and zero everywhere else in the vector.\n* a comment column denoted by `#`, to allow a human reader to know what the numeric word index stands for;\nComment columns are ignored by the system. `BOS` and `EOS` are special words\nto denote beginning and end of sentence, respectively;\n* column `S1` is an intent label, which we will only use in the last part of the tutorial;\n* another comment column that shows the human-readable label of the numeric intent index;\n* column `S2` is the slot label, represented as a numeric index; and\n* another comment column that shows the human-readable label of the numeric label index.\n\nThe task of the neural network is to look at the query (column `S0`) and predict the\nslot label (column `S2`).\nAs you can see, each word in the input gets assigned either an empty label `O`\nor a slot label that begins with `B-` for the first word, and with `I-` for any\nadditional consecutive word that belongs to the same slot.\n\nThe model we will use is a recurrent model consisting of an embedding layer,\na recurrent LSTM cell, and a dense layer to compute the posterior probabilities:\n\n\n    slot label   \"O\"        \"O\"        \"O\"        \"O\"  \"B-fromloc.city_name\"\n                  ^          ^          ^          ^          ^\n                  |          |          |          |          |\n              +-------+  +-------+  +-------+  +-------+  +-------+\n              | Dense |  | Dense |  | Dense |  | Dense |  | Dense |  ...\n              +-------+  +-------+  +-------+  +-------+  +-------+\n                  ^          ^          ^          ^          ^\n                  |          |          |          |          |\n              +------+   +------+   +------+   +------+   +------+   \n         0 -->| LSTM |-->| LSTM |-->| LSTM |-->| LSTM |-->| LSTM |-->...\n              +------+   +------+   +------+   +------+   +------+   \n                  ^          ^          ^          ^          ^\n                  |          |          |          |          |\n              +-------+  +-------+  +-------+  +-------+  +-------+\n              | Embed |  | Embed |  | Embed |  | Embed |  | Embed |  ...\n              +-------+  +-------+  +-------+  +-------+  +-------+\n                  ^          ^          ^          ^          ^\n                  |          |          |          |          |\n    w      ------>+--------->+--------->+--------->+--------->+------... \n                 BOS      \"show\"    \"flights\"    \"from\"   \"burbank\"\n\nOr, as a CNTK network description. Please have a quick look and match it with the description above:\n(descriptions of these functions can be found at: [the layers reference](http://cntk.ai/pythondocs/layerref.html))\n"
    },
    {
      "metadata": {
        "trusted": true
      },
      "cell_type": "code",
      "source": "# number of words in vocab, slot labels, and intent labels\nvocab_size = 943 ; num_labels = 129 ; num_intents = 26    \n\n# model dimensions\ninput_dim  = vocab_size\nlabel_dim  = num_labels\nemb_dim    = 150\nhidden_dim = 300\n\n# Create the containers for input feature (x) and the label (y)\nx = C.sequence.input_variable(vocab_size)\ny = C.sequence.input_variable(num_labels)\n\ndef create_model():\n    with C.layers.default_options(initial_state=0.1):\n        return C.layers.Sequential([\n            C.layers.Embedding(emb_dim, name='embed'),\n            C.layers.Recurrence(C.layers.LSTM(hidden_dim), go_backwards=False),\n            C.layers.Dense(num_labels, name='classify')\n        ])",
      "execution_count": 4,
      "outputs": []
    },
    {
      "metadata": {},
      "cell_type": "markdown",
      "source": "Now we are ready to create a model and inspect it. \n\nThe model attributes are fully accessible from Python. The first layer named `embed` is an Embedding layer. Here we use the CNTK default, which is linear embedding. It is a simple matrix with dimension (input word encoding x output projected dimension). You can access its parameter `E` (where the embeddings are stored) like any other attribute of a Python object. Its shape contains a `-1` which indicates that this parameter (with input dimension) is not fully specified yet, while the output dimension is set to `emb_dim` ( = 150 in this tutorial). \n\nAdditionally we also inspect the value of the bias vector in the `Dense` layer named `classify`. The `Dense` layer is a fundamental compositional unit of a Multi-Layer Perceptron (as introduced in CNTK 103C tutorial). The `Dense` layer has both `weight` and `bias` parameters, one each per `Dense` layer. Bias terms are by default initialized to 0 (but there is a way to change that if you need). As you create the model, one should name the layer component and then access the parameters as shown here. \n\n**Suggested task**: What should be the expected dimension of the `weight` matrix from the layer named `classify`? Try printing the weight matrix of the `classify` layer? Does it match with your expected size?"
    },
    {
      "metadata": {
        "trusted": true
      },
      "cell_type": "code",
      "source": "# peek\nz = create_model()\nprint(z.embed.E.shape)\nprint(z.classify.b.value)",
      "execution_count": 5,
      "outputs": [
        {
          "output_type": "stream",
          "text": "(-1, 150)\n[0. 0. 0. 0. 0. 0. 0. 0. 0. 0. 0. 0. 0. 0. 0. 0. 0. 0. 0. 0. 0. 0. 0. 0.\n 0. 0. 0. 0. 0. 0. 0. 0. 0. 0. 0. 0. 0. 0. 0. 0. 0. 0. 0. 0. 0. 0. 0. 0.\n 0. 0. 0. 0. 0. 0. 0. 0. 0. 0. 0. 0. 0. 0. 0. 0. 0. 0. 0. 0. 0. 0. 0. 0.\n 0. 0. 0. 0. 0. 0. 0. 0. 0. 0. 0. 0. 0. 0. 0. 0. 0. 0. 0. 0. 0. 0. 0. 0.\n 0. 0. 0. 0. 0. 0. 0. 0. 0. 0. 0. 0. 0. 0. 0. 0. 0. 0. 0. 0. 0. 0. 0. 0.\n 0. 0. 0. 0. 0. 0. 0. 0. 0.]\n",
          "name": "stdout"
        }
      ]
    },
    {
      "metadata": {},
      "cell_type": "markdown",
      "source": "In our case we have input as one-hot encoded vector of length 943 and the output dimension `emb_dim` is set to 150. In the code below we pass the input variable `x` to our model `z`. This binds the model with input data of known shape. In this case, the input shape will be the size of the input vocabulary. With this modification, the parameter returned by the embed layer is completely specified (943, 150). **Note**: You can initialize the Embedding matrix with pre-computed vectors using [Word2Vec](https://en.wikipedia.org/wiki/Word2vec) or [GloVe](https://en.wikipedia.org/wiki/GloVe_(machine_learning))."
    },
    {
      "metadata": {
        "trusted": true
      },
      "cell_type": "code",
      "source": "# Pass an input and check the dimension\nz = create_model()\nprint(z(x).embed.E.shape)",
      "execution_count": 6,
      "outputs": [
        {
          "output_type": "stream",
          "text": "(943, 150)\n",
          "name": "stdout"
        }
      ]
    },
    {
      "metadata": {},
      "cell_type": "markdown",
      "source": "## CNTK Configuration\n\nTo train and test a model in CNTK, we need to create a model and specify how to read data and perform training and testing. \n\nIn order to train we need to specify:\n\n* how to read the data \n* the model function, its inputs, and outputs\n* hyper-parameters for the learner such as the learning rate\n\n[comment]: <> (For testing ...)\n\n### A Brief Look at Data and Data Reading\n\nWe already looked at the data.\nBut how do you generate this format?\nFor reading text, this tutorial uses the `CNTKTextFormatReader`. It expects the input data to be\nin a specific format, as described [here](https://docs.microsoft.com/en-us/cognitive-toolkit/Brainscript-CNTKTextFormat-Reader).\n\nFor this tutorial, we created the corpora by two steps:\n* convert the raw data into a plain text file that contains of TAB-separated columns of space-separated text. For example:\n\n  ```\n  BOS show flights from burbank to st. louis on monday EOS (TAB) flight (TAB) O O O O B-fromloc.city_name O B-toloc.city_name I-toloc.city_name O B-depart_date.day_name O\n  ```\n\n  This is meant to be compatible with the output of the `paste` command.\n* convert it to CNTK Text Format (CTF) with the following command:\n\n  ```\n  python [CNTK root]/Scripts/txt2ctf.py --map query.wl intent.wl slots.wl --annotated True --input atis.test.txt --output atis.test.ctf\n  ```\n  where the three `.wl` files give the vocabulary as plain text files, one word per line.\n\nIn these CTF files, our columns are labeled `S0`, `S1`, and `S2`.\nThese are connected to the actual network inputs by the corresponding lines in the reader definition:"
    },
    {
      "metadata": {
        "trusted": true
      },
      "cell_type": "code",
      "source": "def create_reader(path, is_training):\n    return C.io.MinibatchSource(C.io.CTFDeserializer(path, C.io.StreamDefs(\n         query         = C.io.StreamDef(field='S0', shape=vocab_size,  is_sparse=True),\n         intent_unused = C.io.StreamDef(field='S1', shape=num_intents, is_sparse=True),  \n         slot_labels   = C.io.StreamDef(field='S2', shape=num_labels,  is_sparse=True)\n     )), randomize=is_training, max_sweeps = C.io.INFINITELY_REPEAT if is_training else 1)",
      "execution_count": 7,
      "outputs": []
    },
    {
      "metadata": {
        "trusted": true
      },
      "cell_type": "code",
      "source": "# peek\nreader = create_reader(data['train']['file'], is_training=True)\nreader.streams.keys()",
      "execution_count": 8,
      "outputs": [
        {
          "output_type": "execute_result",
          "execution_count": 8,
          "data": {
            "text/plain": "dict_keys(['query', 'intent_unused', 'slot_labels'])"
          },
          "metadata": {}
        }
      ]
    },
    {
      "metadata": {},
      "cell_type": "markdown",
      "source": "### Trainer\n\nWe also must define the training criterion (loss function), and also an error metric to track. In most tutorials, we know the input dimensions and the corresponding labels. We directly create the loss and the error functions. In this tutorial we will do the same. However, we take a brief detour and learn about placeholders. This concept would be useful for Task 3. \n\n**Learning note**: Introduction to `placeholder`: Remember that the code we have been writing is not actually executing any heavy computation it is just specifying the function we want to compute on data during training/testing. And in the same way that it is convenient to have names for arguments when you write a regular function in a programming language, it is convenient to have placeholders that refer to arguments (or local computations that need to be reused). Eventually, some other code will replace these placeholders with other known quantities in the same way that in a programming language the function will be called with concrete values bound to its arguments. \n\nSpecifically, the input variables you have created above `x = C.sequence.input_variable(vocab_size)` holds data pre-defined by `vocab_size`. In the case where such instantiations are challenging or not possible, using `placeholder` is a logical choice. Having the `placeholder` only allows you to defer the specification of the argument at a later time when you may have the data.\n\nHere is an example below that illustrates the use of `placeholder`."
    },
    {
      "metadata": {
        "trusted": true
      },
      "cell_type": "code",
      "source": "def create_criterion_function(model):\n    labels = C.placeholder(name='labels')\n    ce   = C.cross_entropy_with_softmax(model, labels)\n    errs = C.classification_error      (model, labels)\n    return C.combine ([ce, errs]) # (features, labels) -> (loss, metric)\n\ncriterion = create_criterion_function(create_model())\ncriterion.replace_placeholders({criterion.placeholders[0]: C.sequence.input_variable(num_labels)})",
      "execution_count": 9,
      "outputs": [
        {
          "output_type": "execute_result",
          "execution_count": 9,
          "data": {
            "text/plain": "Composite(Combine): Input('Input2300', [#, *], [129]), Placeholder('labels', [???], [???]) -> Output('Block2270_Output_0', [#, *], [???]), Output('Block2290_Output_0', [#, *], [???])"
          },
          "metadata": {}
        }
      ]
    },
    {
      "metadata": {},
      "cell_type": "markdown",
      "source": "While the cell above works well when one has input parameters defined at network creation, it compromises readability. Hence we prefer creating functions as shown below"
    },
    {
      "metadata": {
        "trusted": true
      },
      "cell_type": "code",
      "source": "def create_criterion_function_preferred(model, labels):\n    ce   = C.cross_entropy_with_softmax(model, labels)\n    errs = C.classification_error      (model, labels)\n    return ce, errs # (model, labels) -> (loss, error metric)",
      "execution_count": 10,
      "outputs": []
    },
    {
      "metadata": {
        "trusted": true
      },
      "cell_type": "code",
      "source": "def train(reader, model_func, max_epochs=10):\n    \n    # Instantiate the model function; x is the input (feature) variable \n    model = model_func(x)\n    \n    # Instantiate the loss and error function\n    loss, label_error = create_criterion_function_preferred(model, y)\n\n    # training config\n    epoch_size = 18000        # 18000 samples is half the dataset size \n    minibatch_size = 70\n    \n    # LR schedule over epochs \n    # In CNTK, an epoch is how often we get out of the minibatch loop to\n    # do other stuff (e.g. checkpointing, adjust learning rate, etc.)\n    # (we don't run this many epochs, but if we did, these are good values)\n    lr_per_sample = [0.003]*4+[0.0015]*24+[0.0003]\n    lr_per_minibatch = [lr * minibatch_size for lr in lr_per_sample]\n    lr_schedule = C.learning_rate_schedule(lr_per_minibatch, C.UnitType.minibatch, epoch_size)\n    \n    # Momentum schedule\n    momentum_as_time_constant = C.momentum_as_time_constant_schedule(700)\n    \n    # We use a the Adam optimizer which is known to work well on this dataset\n    # Feel free to try other optimizers from \n    # https://www.cntk.ai/pythondocs/cntk.learner.html#module-cntk.learner\n    learner = C.adam(parameters=model.parameters,\n                     lr=lr_schedule,\n                     momentum=momentum_as_time_constant,\n                     gradient_clipping_threshold_per_sample=15, \n                     gradient_clipping_with_truncation=True)\n\n    # Setup the progress updater\n    progress_printer = C.logging.ProgressPrinter(tag='Training', num_epochs=max_epochs)\n    \n    # Uncomment below for more detailed logging\n    #progress_printer = ProgressPrinter(freq=100, first=10, tag='Training', num_epochs=max_epochs) \n\n    # Instantiate the trainer\n    trainer = C.Trainer(model, (loss, label_error), learner, progress_printer)\n\n    # process minibatches and perform model training\n    C.logging.log_number_of_parameters(model)\n\n    t = 0\n    for epoch in range(max_epochs):         # loop over epochs\n        epoch_end = (epoch+1) * epoch_size\n        while t < epoch_end:                # loop over minibatches on the epoch\n            data = reader.next_minibatch(minibatch_size, input_map={  # fetch minibatch\n                x: reader.streams.query,\n                y: reader.streams.slot_labels\n            })\n            trainer.train_minibatch(data)               # update model with it\n            t += data[y].num_samples                    # samples so far\n        trainer.summarize_training_progress()",
      "execution_count": 11,
      "outputs": []
    },
    {
      "metadata": {},
      "cell_type": "markdown",
      "source": "### Running it\n\nYou can find the complete recipe below."
    },
    {
      "metadata": {
        "scrolled": false,
        "trusted": true
      },
      "cell_type": "code",
      "source": "def do_train():\n    global z\n    z = create_model()\n    reader = create_reader(data['train']['file'], is_training=True)\n    train(reader, z)\ndo_train()",
      "execution_count": 12,
      "outputs": [
        {
          "output_type": "stream",
          "text": "Training 721479 parameters in 6 parameter tensors.\nLearning rate per minibatch: 0.21\nFinished Epoch[1 of 10]: [Training] loss = 0.692392 * 18010, metric = 14.14% * 18010 10.710s (1681.6 samples/s);\nFinished Epoch[2 of 10]: [Training] loss = 0.196757 * 18051, metric = 4.43% * 18051 10.142s (1779.8 samples/s);\nFinished Epoch[3 of 10]: [Training] loss = 0.127802 * 17941, metric = 2.88% * 17941 9.610s (1866.9 samples/s);\nFinished Epoch[4 of 10]: [Training] loss = 0.089395 * 18059, metric = 2.14% * 18059 9.475s (1906.0 samples/s);\nLearning rate per minibatch: 0.105\nFinished Epoch[5 of 10]: [Training] loss = 0.057005 * 17957, metric = 1.33% * 17957 10.601s (1693.9 samples/s);\nFinished Epoch[6 of 10]: [Training] loss = 0.051911 * 18021, metric = 1.22% * 18021 10.830s (1664.0 samples/s);\nFinished Epoch[7 of 10]: [Training] loss = 0.047058 * 17980, metric = 1.17% * 17980 9.847s (1825.9 samples/s);\nFinished Epoch[8 of 10]: [Training] loss = 0.040754 * 18025, metric = 1.07% * 18025 10.604s (1699.8 samples/s);\nFinished Epoch[9 of 10]: [Training] loss = 0.024979 * 17956, metric = 0.69% * 17956 10.461s (1716.5 samples/s);\nFinished Epoch[10 of 10]: [Training] loss = 0.029398 * 18039, metric = 0.81% * 18039 9.447s (1909.5 samples/s);\n",
          "name": "stdout"
        }
      ]
    },
    {
      "metadata": {},
      "cell_type": "markdown",
      "source": "This shows how learning proceeds over epochs (passes through the data).\nFor example, after four epochs, the loss, which is the cross-entropy criterion, has reached 0.11 as measured on the ~18000 samples of this epoch,\nand that the error rate is 2.6% on those same 18000 training samples.\n\nThe epoch size is the number of samples--counted as *word tokens*, not sentences--to\nprocess between model checkpoints.\n\nOnce the training has completed (a little less than 2 minutes on a Titan-X or a Surface Book),\nyou will see an output like this\n```\nFinished Epoch [10]: [Training] loss = 0.033263 * 18039, metric = 0.9% * 18039\n```\nwhich is the loss (cross entropy) and the metric (classification error) averaged over the final epoch.\n\nOn a CPU-only machine, it can be 4 or more times slower. You can try setting\n```python\nemb_dim    = 50 \nhidden_dim = 100\n```\nto reduce the time it takes to run on a CPU, but the model will not fit as well as when the \nhidden and embedding dimension are larger. "
    },
    {
      "metadata": {},
      "cell_type": "markdown",
      "source": "### Evaluating the model\n\nLike the train() function, we also define a function to measure accuracy on a test set by computing the error over multiple minibatches of test data. For evaluating on a small sample read from a file, you can set a minibatch size reflecting the sample size and run the test_minibatch on that instance of data. To see how to evaluate a single sequence, we provide an instance later in the tutorial. "
    },
    {
      "metadata": {
        "trusted": true
      },
      "cell_type": "code",
      "source": "def evaluate(reader, model_func):\n    \n    # Instantiate the model function; x is the input (feature) variable \n    model = model_func(x)\n    \n    # Create the loss and error functions\n    loss, label_error = create_criterion_function_preferred(model, y)\n\n    # process minibatches and perform evaluation\n    progress_printer = C.logging.ProgressPrinter(tag='Evaluation', num_epochs=0)\n\n    while True:\n        minibatch_size = 500\n        data = reader.next_minibatch(minibatch_size, input_map={  # fetch minibatch\n            x: reader.streams.query,\n            y: reader.streams.slot_labels\n        })\n        if not data:                                 # until we hit the end\n            break\n\n        evaluator = C.eval.Evaluator(loss, progress_printer)\n        evaluator.test_minibatch(data)\n     \n    evaluator.summarize_test_progress()",
      "execution_count": null,
      "outputs": []
    },
    {
      "metadata": {},
      "cell_type": "markdown",
      "source": "Now we can measure the model accuracy by going through all the examples in the test set and using the ``test_minibatch`` method of the trainer created inside the evaluate function defined above. At the moment (when this tutorial was written) the Trainer constructor requires a learner (even if it is only used to perform ``test_minibatch``) so we have to specify a dummy learner. In the future it will be allowed to construct a Trainer without specifying a learner as long as the trainer only calls ``test_minibatch``"
    },
    {
      "metadata": {
        "trusted": true
      },
      "cell_type": "code",
      "source": "def do_test():\n    reader = create_reader(data['test']['file'], is_training=False)\n    evaluate(reader, z)\ndo_test()\nz.classify.b.value",
      "execution_count": null,
      "outputs": []
    },
    {
      "metadata": {},
      "cell_type": "markdown",
      "source": "The following block of code illustrates how to evaluate a single sequence. Additionally we show how one can pass in the information using NumPy arrays."
    },
    {
      "metadata": {
        "trusted": true
      },
      "cell_type": "code",
      "source": "# load dictionaries\nquery_wl = [line.rstrip('\\n') for line in open(data['query']['file'])]\nslots_wl = [line.rstrip('\\n') for line in open(data['slots']['file'])]\nquery_dict = {query_wl[i]:i for i in range(len(query_wl))}\nslots_dict = {slots_wl[i]:i for i in range(len(slots_wl))}\n\n# let's run a sequence through\nseq = 'BOS flights from new york to seattle EOS'\nw = [query_dict[w] for w in seq.split()] # convert to word indices\nprint(w)\nonehot = np.zeros([len(w),len(query_dict)], np.float32)\nfor t in range(len(w)):\n    onehot[t,w[t]] = 1\n\n#x = C.sequence.input_variable(vocab_size)\npred = z(x).eval({x:[onehot]})[0]\nprint(pred.shape)\nbest = np.argmax(pred,axis=1)\nprint(best)\nlist(zip(seq.split(),[slots_wl[s] for s in best]))",
      "execution_count": null,
      "outputs": []
    },
    {
      "metadata": {},
      "cell_type": "markdown",
      "source": "## Modifying the Model\n\nIn the following, you will be given tasks to practice modifying CNTK configurations.\nThe solutions are given at the end of this document... but please try without!\n\n### A Word About [`Sequential()`](https://www.cntk.ai/pythondocs/layerref.html#sequential)\n\nBefore jumping to the tasks, let's have a look again at the model we just ran.\nThe model is described in what we call *function-composition style*.\n```python\n        Sequential([\n            Embedding(emb_dim),\n            Recurrence(LSTM(hidden_dim), go_backwards=False),\n            Dense(num_labels)\n        ])\n```\nYou may be familiar with the \"sequential\" notation from other neural-network toolkits.\nIf not, [`Sequential()`](https://www.cntk.ai/pythondocs/layerref.html#sequential) is a powerful operation that,\nin a nutshell, allows to compactly express a very common situation in neural networks\nwhere an input is processed by propagating it through a progression of layers.\n`Sequential()` takes an list of functions as its argument,\nand returns a *new* function that invokes these functions in order,\neach time passing the output of one to the next.\nFor example,\n```python\n\tFGH = Sequential ([F,G,H])\n    y = FGH (x)\n```\nmeans the same as\n```\n    y = H(G(F(x))) \n```\nThis is known as [\"function composition\"](https://en.wikipedia.org/wiki/Function_composition),\nand is especially convenient for expressing neural networks, which often have this form:\n\n         +-------+   +-------+   +-------+\n    x -->|   F   |-->|   G   |-->|   H   |--> y\n         +-------+   +-------+   +-------+\n\nComing back to our model at hand, the `Sequential` expression simply\nsays that our model has this form:\n\n         +-----------+   +----------------+   +------------+\n    x -->| Embedding |-->| Recurrent LSTM |-->| DenseLayer |--> y\n         +-----------+   +----------------+   +------------+"
    },
    {
      "metadata": {},
      "cell_type": "markdown",
      "source": "### Task 1: Add Batch Normalization\n\nWe now want to add new layers to the model, specifically batch normalization.\n\nBatch normalization is a popular technique for speeding up convergence.\nIt is often used for image-processing setups, for example our other [hands-on lab on image\nrecognition](./Hands-On-Labs-Image-Recognition).\nBut could it work for recurrent models, too?\n\n> Note: training with Batch Normalization is currently only supported on GPU.\n\nSo your task will be to insert batch-normalization layers before and after the recurrent LSTM layer.\nIf you have completed the [hands-on labs on image processing](https://github.com/Microsoft/CNTK/blob/v2.0/Tutorials/CNTK_201B_CIFAR-10_ImageHandsOn.ipynb),\nyou may remember that the [batch-normalization layer](https://www.cntk.ai/pythondocs/layerref.html#batchnormalization-layernormalization-stabilizer) has this form:\n```\n    BatchNormalization()\n```\nSo please go ahead and modify the configuration and see what happens.\n\nIf everything went right, you will notice improved convergence speed (`loss` and `metric`)\ncompared to the previous configuration."
    },
    {
      "metadata": {
        "trusted": true
      },
      "cell_type": "code",
      "source": "# Your task: Add batch normalization\ndef create_model():\n    with C.layers.default_options(initial_state=0.1):\n        return C.layers.Sequential([\n            C.layers.Embedding(emb_dim),\n            C.layers.Recurrence(C.layers.LSTM(hidden_dim), go_backwards=False),\n            C.layers.Dense(num_labels)\n        ])\n\n# Enable these when done:\nz = create_model()\n#do_train()\n#do_test()",
      "execution_count": null,
      "outputs": []
    },
    {
      "metadata": {},
      "cell_type": "markdown",
      "source": "### Task 2: Add a Lookahead \n\nOur recurrent model suffers from a structural deficit:\nSince the recurrence runs from left to right, the decision for a slot label\nhas no information about upcoming words. The model is a bit lopsided.\nYour task will be to modify the model such that\nthe input to the recurrence consists not only of the current word, but also of the next one\n(lookahead).\n\nYour solution should be in function-composition style.\nHence, you will need to write a Python function that does the following:\n\n* takes no input arguments\n* creates a placeholder (sequence) variable\n* computes the \"next value\" in this sequence using the `sequence.future_value()` operation and\n* concatenates the current and the next value into a vector of twice the embedding dimension using `splice()`\n\nand then insert this function into `Sequential()`'s list right after the embedding layer."
    },
    {
      "metadata": {
        "trusted": true
      },
      "cell_type": "code",
      "source": "# Your task: Add lookahead\ndef create_model():\n    with C.layers.default_options(initial_state=0.1):\n        return C.layers.Sequential([\n            C.layers.Embedding(emb_dim),\n            C.layers.Recurrence(C.layers.LSTM(hidden_dim), go_backwards=False),\n            C.layers.Dense(num_labels)\n        ])\n    \n# Enable these when done:\nz = create_model()\n#do_train()\n#do_test()",
      "execution_count": null,
      "outputs": []
    },
    {
      "metadata": {},
      "cell_type": "markdown",
      "source": "### Task 3: Bidirectional Recurrent Model\n\nAha, knowledge of future words help. So instead of a one-word lookahead,\nwhy not look ahead until all the way to the end of the sentence, through a backward recurrence?\nLet us create a bidirectional model!\n\nYour task is to implement a new layer that\nperforms both a forward and a backward recursion over the data, and\nconcatenates the output vectors.\n\nNote, however, that this differs from the previous task in that\nthe bidirectional layer contains learnable model parameters.\nIn function-composition style,\nthe pattern to implement a layer with model parameters is to write a *factory function*\nthat creates a *function object*.\n\nA function object, also known as [*functor*](https://en.wikipedia.org/wiki/Function_object), is an object that is both a function and an object.\nWhich means nothing else that it contains data yet still can be invoked as if it was a function.\n\nFor example, `Dense(outDim)` is a factory function that returns a function object that contains\na weight matrix `W`, a bias `b`, and another function to compute \n`input @ W + b.` (This is using \n[Python 3.5 notation for matrix multiplication](https://docs.python.org/3/whatsnew/3.5.html#whatsnew-pep-465).\nIn Numpy syntax it is `input.dot(W) + b`).\nE.g. saying `Dense(1024)` will create this function object, which can then be used\nlike any other function, also immediately: `Dense(1024)(x)`. \n\nLet's look at an example for further clarity: Let us implement a new layer that combines\na linear layer with a subsequent batch normalization. \nTo allow function composition, the layer needs to be realized as a factory function,\nwhich could look like this:\n\n```python\ndef DenseLayerWithBN(dim):\n    F = Dense(dim)\n    G = BatchNormalization()\n    x = placeholder()\n    apply_x = G(F(x))\n    return apply_x\n```\n\nInvoking this factory function will create `F`, `G`, `x`, and `apply_x`. In this example, `F` and `G` are function objects themselves, and `apply_x` is the function to be applied to the data.\nThus, e.g. calling `DenseLayerWithBN(1024)` will\ncreate an object containing a linear-layer function object called `F`, a batch-normalization function object `G`,\nand `apply_x` which is the function that implements the actual operation of this layer\nusing `F` and `G`. It will then return `apply_x`. To the outside, `apply_x` looks and behaves\nlike a function. Under the hood, however, `apply_x` retains access to its specific instances of `F` and `G`.\n\nNow back to our task at hand. You will now need to create a factory function,\nvery much like the example above.\nYou shall create a factory function\nthat creates two recurrent layer instances (one forward, one backward), and then defines an `apply_x` function\nwhich applies both layer instances to the same `x` and concatenate the two results.\n\nAlright, give it a try! To know how to realize a backward recursion in CNTK,\nplease take a hint from how the forward recursion is done.\nPlease also do the following:\n* remove the one-word lookahead you added in the previous task, which we aim to replace; and\n* make sure each LSTM is using `hidden_dim//2` outputs to keep the total number of model parameters limited."
    },
    {
      "metadata": {
        "trusted": true
      },
      "cell_type": "code",
      "source": "# Your task: Add bidirectional recurrence\ndef create_model():\n    with C.layers.default_options(initial_state=0.1):  \n        return C.layers.Sequential([\n            C.layers.Embedding(emb_dim),\n            C.layers.Recurrence(C.layers.LSTM(hidden_dim), go_backwards=False),\n            C.layers.Dense(num_labels)\n        ])\n\n# Enable these when done:\n#do_train()\n#do_test()",
      "execution_count": null,
      "outputs": []
    },
    {
      "metadata": {},
      "cell_type": "markdown",
      "source": "Works like a charm! This model achieves 0.32%, better than the lookahead model above.\nThe bidirectional model has 40% less parameters than the lookahead one. However, if you go back and look closely\nyou may find that the lookahead one trained about 30% faster.\nThis is because the lookahead model has both less horizontal dependencies (one instead of two\nrecurrences) and larger matrix products, and can thus achieve higher parallelism."
    },
    {
      "metadata": {},
      "cell_type": "markdown",
      "source": "### Solution 1: Adding Batch Normalization"
    },
    {
      "metadata": {
        "trusted": true
      },
      "cell_type": "code",
      "source": "def create_model():\n    with C.layers.default_options(initial_state=0.1):\n        return C.layers.Sequential([\n            C.layers.Embedding(emb_dim),\n            #C.layers.BatchNormalization(),\n            C.layers.Recurrence(C.layers.LSTM(hidden_dim), go_backwards=False),\n            #C.layers.BatchNormalization(),\n            C.layers.Dense(num_labels)\n        ])\n\ndo_train()\ndo_test()",
      "execution_count": null,
      "outputs": []
    },
    {
      "metadata": {},
      "cell_type": "markdown",
      "source": "### Solution 2: Add a Lookahead"
    },
    {
      "metadata": {
        "scrolled": true,
        "trusted": true
      },
      "cell_type": "code",
      "source": "def OneWordLookahead():\n    x = C.placeholder()\n    apply_x = C.splice(x, C.sequence.future_value(x))\n    return apply_x\n\ndef create_model():\n    with C.layers.default_options(initial_state=0.1):\n        return C.layers.Sequential([\n            C.layers.Embedding(emb_dim),\n            OneWordLookahead(),\n            C.layers.Recurrence(C.layers.LSTM(hidden_dim), go_backwards=False),\n            C.layers.Dense(num_labels)        \n        ])\n\ndo_train()\ndo_test()",
      "execution_count": null,
      "outputs": []
    },
    {
      "metadata": {},
      "cell_type": "markdown",
      "source": "### Solution 3: Bidirectional Recurrent Model"
    },
    {
      "metadata": {
        "trusted": true
      },
      "cell_type": "code",
      "source": "def BiRecurrence(fwd, bwd):\n    F = C.layers.Recurrence(fwd)\n    G = C.layers.Recurrence(bwd, go_backwards=True)\n    x = C.placeholder()\n    apply_x = C.splice(F(x), G(x))\n    return apply_x \n\ndef create_model():\n    with C.layers.default_options(initial_state=0.1):\n        return C.layers.Sequential([\n            C.layers.Embedding(emb_dim),\n            BiRecurrence(C.layers.LSTM(hidden_dim//2), \n                                  C.layers.LSTM(hidden_dim//2)),\n            C.layers.Dense(num_labels)\n        ])\n\ndo_train()\ndo_test()",
      "execution_count": null,
      "outputs": []
    },
    {
      "metadata": {
        "trusted": true
      },
      "cell_type": "code",
      "source": "",
      "execution_count": null,
      "outputs": []
    }
  ],
  "metadata": {
    "anaconda-cloud": {},
    "kernelspec": {
      "name": "python3",
      "display_name": "Python 3",
      "language": "python"
    },
    "language_info": {
      "mimetype": "text/x-python",
      "nbconvert_exporter": "python",
      "name": "python",
      "file_extension": ".py",
      "version": "3.5.4",
      "pygments_lexer": "ipython3",
      "codemirror_mode": {
        "version": 3,
        "name": "ipython"
      }
    }
  },
  "nbformat": 4,
  "nbformat_minor": 1
}