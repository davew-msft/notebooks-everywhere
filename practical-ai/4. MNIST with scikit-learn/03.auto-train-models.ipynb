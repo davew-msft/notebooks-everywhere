{
  "cells": [
    {
      "metadata": {},
      "cell_type": "markdown",
      "source": "Copyright (c) Microsoft Corporation. All rights reserved.\n\nLicensed under the MIT License."
    },
    {
      "metadata": {},
      "cell_type": "markdown",
      "source": "# Tutorial: Train a classification model with automated machine learning\n\nIn this tutorial, you'll learn how to generate a  machine learning model using automated machine learning (automated ML).  Azure Machine Learning can perform algorithm selection and hyperparameter selection in an automated way for you. The final model can then be deployed following the workflow in the [Deploy a model](02.deploy-models.ipynb) tutorial.\n\n[flow diagram](./imgs/flow2.png)\n\nSimilar to the [train models tutorial](01.train-models.ipynb), this tutorial classifies handwritten images of digits (0-9) from the [MNIST](http://yann.lecun.com/exdb/mnist/) dataset. But this time you don't to specify an algorithm or tune hyperparameters. The automated ML technique iterates over many combinations of algorithms and hyperparameters until it finds the best model based on your criterion.\n\nYou'll learn how to:\n\n> * Set up your development environment\n> * Access and examine the data\n> * Train using an automated classifier locally with custom parameters\n> * Explore the results\n> * Review training results\n> * Register the best model\n\n## Prerequisites\n\nUse [these instructions](https://aka.ms/aml-how-to-configure-environment) to:  \n* Create a workspace and its configuration file (**config.json**)  \n* Upload your **config.json** to the same folder as this notebook"
    },
    {
      "metadata": {},
      "cell_type": "markdown",
      "source": "### Start a notebook\n\nTo follow along, start a new notebook from the same directory as **config.json** and copy the code from the sections below.\n\n\n## Set up your development environment\n\nAll the setup for your development work can be accomplished in the Python notebook.  Setup includes:\n\n* Import Python packages\n* Configure a workspace to enable communication between your local computer and remote resources\n* Create a directory to store training scripts\n\n### Import packages\nImport Python packages you need in this tutorial."
    },
    {
      "metadata": {
        "trusted": true
      },
      "cell_type": "code",
      "source": "import azureml.core\nimport pandas as pd\nfrom azureml.core.workspace import Workspace\nfrom azureml.train.automl.run import AutoMLRun\nimport time\nimport logging\nfrom sklearn import datasets\nfrom matplotlib import pyplot as plt\nfrom matplotlib.pyplot import imshow\nimport random\nimport numpy as np",
      "execution_count": 1,
      "outputs": []
    },
    {
      "metadata": {},
      "cell_type": "markdown",
      "source": "### Configure workspace\n\nCreate a workspace object from the existing workspace. `Workspace.from_config()` reads the file **aml_config/config.json** and loads the details into an object named `ws`.  `ws` is used throughout the rest of the code in this tutorial.\n\nOnce you have a workspace object, specify a name for the experiment and create and register a local directory with the workspace. The history of all runs is recorded under the specified experiment."
    },
    {
      "metadata": {
        "trusted": true
      },
      "cell_type": "code",
      "source": "ws = Workspace.from_config()\n# choose a name for the run history container in the workspace\nexperiment_name = 'automl-classifier'\n# project folder\nproject_folder = './automl-classifier'\n\nimport os\n\noutput = {}\noutput['SDK version'] = azureml.core.VERSION\noutput['Subscription ID'] = ws.subscription_id\noutput['Workspace'] = ws.name\noutput['Resource Group'] = ws.resource_group\noutput['Location'] = ws.location\noutput['Project Directory'] = project_folder\npd.set_option('display.max_colwidth', -1)\npd.DataFrame(data=output, index=['']).T",
      "execution_count": 2,
      "outputs": [
        {
          "output_type": "stream",
          "text": "Found the config file in: /home/nbuser/library/config.json\n",
          "name": "stdout"
        },
        {
          "output_type": "execute_result",
          "execution_count": 2,
          "data": {
            "text/html": "<div>\n<style scoped>\n    .dataframe tbody tr th:only-of-type {\n        vertical-align: middle;\n    }\n\n    .dataframe tbody tr th {\n        vertical-align: top;\n    }\n\n    .dataframe thead th {\n        text-align: right;\n    }\n</style>\n<table border=\"1\" class=\"dataframe\">\n  <thead>\n    <tr style=\"text-align: right;\">\n      <th></th>\n      <th></th>\n    </tr>\n  </thead>\n  <tbody>\n    <tr>\n      <th>Location</th>\n      <td>eastus</td>\n    </tr>\n    <tr>\n      <th>Project Directory</th>\n      <td>./automl-classifier</td>\n    </tr>\n    <tr>\n      <th>Resource Group</th>\n      <td>ailive</td>\n    </tr>\n    <tr>\n      <th>SDK version</th>\n      <td>0.1.80</td>\n    </tr>\n    <tr>\n      <th>Subscription ID</th>\n      <td>4080037c-d995-46ca-9e70-724ebd271024</td>\n    </tr>\n    <tr>\n      <th>Workspace</th>\n      <td>ailive-ws</td>\n    </tr>\n  </tbody>\n</table>\n</div>",
            "text/plain": "                                                       \nLocation           eastus                              \nProject Directory  ./automl-classifier                 \nResource Group     ailive                              \nSDK version        0.1.80                              \nSubscription ID    4080037c-d995-46ca-9e70-724ebd271024\nWorkspace          ailive-ws                           "
          },
          "metadata": {}
        }
      ]
    },
    {
      "metadata": {},
      "cell_type": "markdown",
      "source": "## Explore data\n\nThe initial training tutorial used a high-resolution version  of the MNIST dataset (28x28 pixels).  Since auto training requires many iterations, this tutorial uses a smaller resolution version  of the images (8x8 pixels) to demonstrate the concepts while speeding up the time needed for each iteration."
    },
    {
      "metadata": {
        "trusted": true
      },
      "cell_type": "code",
      "source": "from sklearn import datasets\n\ndigits = datasets.load_digits()\n\n# Exclude the first 100 rows from training so that they can be used for test.\nX_train = digits.data[100:,:]\ny_train = digits.target[100:]",
      "execution_count": 3,
      "outputs": []
    },
    {
      "metadata": {},
      "cell_type": "markdown",
      "source": "### Display some sample images\n\nLoad the data into `numpy` arrays. Then use `matplotlib` to plot 30 random images from the dataset with their labels above them."
    },
    {
      "metadata": {
        "trusted": true
      },
      "cell_type": "code",
      "source": "count = 0\nsample_size = 30\nplt.figure(figsize = (16, 6))\nfor i in np.random.permutation(X_train.shape[0])[:sample_size]:\n    count = count + 1\n    plt.subplot(1, sample_size, count)\n    plt.axhline('')\n    plt.axvline('')\n    plt.text(x = 2, y = -2, s = y_train[i], fontsize = 18)\n    plt.imshow(X_train[i].reshape(8, 8), cmap = plt.cm.Greys)\nplt.show()",
      "execution_count": 4,
      "outputs": [
        {
          "output_type": "display_data",
          "data": {
            "image/png": "[encoded data removed]",
            "text/plain": "<Figure size 1152x432 with 30 Axes>"
          },
          "metadata": {
            "needs_background": "light"
          }
        }
      ]
    },
    {
      "metadata": {},
      "cell_type": "markdown",
      "source": "You now have the necessary packages and data ready for auto training for your model. \n\n## Auto train a model \n\nTo auto train a model, first define settings for autogeneration and tuning and then run the automatic classifier.\n\n\n### Define settings for autogeneration and tuning\n\nDefine the experiment parameters and models settings for autogeneration and tuning.  \n\n\n|Property| Value in this tutorial |Description|\n|----|----|---|\n|**primary_metric**|AUC Weighted | Metric that you want to optimize.|\n|**max_time_sec**|12,000|Time limit in seconds for each iteration|\n|**iterations**|20|Number of iterations. In each iteration, the model trains with the data with a specific pipeline|\n|**n_cross_validations**|3|Number of cross validation splits|\n|**exit_score**|0.9985|*double* value indicating the target for *primary_metric*. Once the target is surpassed the run terminates|\n|**blacklist_algos**|['kNN','LinearSVM']|*Array* of *strings* indicating algorithms to ignore.\n"
    },
    {
      "metadata": {
        "tags": [
          "configure automl"
        ],
        "trusted": true
      },
      "cell_type": "code",
      "source": "from azureml.train.automl import AutoMLConfig\n\n##Local compute \nAutoml_config = AutoMLConfig(task = 'classification',\n                             primary_metric = 'accuracy',\n                             iteration_timeout_minutes = 200,\n                             iterations = 20,\n                             n_cross_validations = 3,\n                             experiment_exit_score = 0.9985,\n                             blacklist_models = ['kNN','LinearSVM'],\n                             X = X_train,\n                             y = y_train,\n                             path=project_folder)",
      "execution_count": 5,
      "outputs": []
    },
    {
      "metadata": {},
      "cell_type": "markdown",
      "source": "### Run the automatic classifier\n\nStart the experiment to run locally. Define the compute target as local and set the output to true to view progress on the experiment."
    },
    {
      "metadata": {
        "tags": [
          "local submitted run",
          "automl"
        ],
        "trusted": true
      },
      "cell_type": "code",
      "source": "from azureml.core.experiment import Experiment\nexperiment=Experiment(ws, experiment_name)\nlocal_run = experiment.submit(Automl_config, show_output=True)",
      "execution_count": 6,
      "outputs": [
        {
          "output_type": "stream",
          "text": "Parent Run ID: AutoML_678873d5-d784-4e0c-bf4b-15c7302fea5b\n*******************************************************************************************\nITERATION: The iteration being evaluated.\nPIPELINE: A summary description of the pipeline being evaluated.\nDURATION: Time taken for the current iteration.\nMETRIC: The result of computing score on the fitted pipeline.\nBEST: The best observed score thus far.\n*******************************************************************************************\n\n ITERATION   PIPELINE                                       DURATION      METRIC      BEST\n         0   StandardScalerWrapper KNN                      0:00:39       0.9652    0.9652\n         1   MaxAbsScaler LogisticRegression                0:00:44       0.9641    0.9652\n         2   MinMaxScaler LightGBM                          0:00:41       0.9658    0.9658\n         3   StandardScalerWrapper LightGBM                 0:00:49       0.9511    0.9658\n         4   StandardScalerWrapper SGD                      0:00:48       0.9487    0.9658\n         5   RobustScaler SGD                               0:00:53       0.9311    0.9658\n         6   RobustScaler LightGBM                          0:00:34       0.9193    0.9658\n         7   ",
          "name": "stdout"
        },
        {
          "output_type": "stream",
          "text": "MSI: Failed to retrieve a token from 'http://localhost:25198/nb/api/nbsvc/oauth2/token' with an error of 'HTTPConnectionPool(host='localhost', port=25198): Max retries exceeded with url: /nb/api/nbsvc/oauth2/token (Caused by NewConnectionError('<urllib3.connection.HTTPConnection object at 0x7fd68bd41828>: Failed to establish a new connection: [Errno -3] Temporary failure in name resolution',))'. This could be caused by the MSI extension not yet fullly provisioned.\n",
          "name": "stderr"
        },
        {
          "output_type": "stream",
          "text": "StandardScalerWrapper RandomForest             0:00:37       0.8014    0.9658\n         8   StandardScalerWrapper ExtremeRandomTrees       0:00:59       0.8221    0.9658\n         9   ",
          "name": "stdout"
        },
        {
          "output_type": "stream",
          "text": "MSI: Failed to retrieve a token from 'http://localhost:25198/nb/api/nbsvc/oauth2/token' with an error of 'HTTPConnectionPool(host='localhost', port=25198): Max retries exceeded with url: /nb/api/nbsvc/oauth2/token (Caused by NewConnectionError('<urllib3.connection.HTTPConnection object at 0x7fd68bca0da0>: Failed to establish a new connection: [Errno -3] Temporary failure in name resolution',))'. This could be caused by the MSI extension not yet fullly provisioned.\nMSI: Failed to retrieve a token from 'http://localhost:25198/nb/api/nbsvc/oauth2/token' with an error of 'HTTPConnectionPool(host='localhost', port=25198): Max retries exceeded with url: /nb/api/nbsvc/oauth2/token (Caused by NewConnectionError('<urllib3.connection.HTTPConnection object at 0x7fd68bca0908>: Failed to establish a new connection: [Errno -3] Temporary failure in name resolution',))'. This could be caused by the MSI extension not yet fullly provisioned.\n",
          "name": "stderr"
        },
        {
          "output_type": "stream",
          "text": "MinMaxScaler KNN                               0:01:15       0.9782    0.9782\n        10   RobustScaler ExtremeRandomTrees                0:01:23       0.0843    0.9782\n        11   SparseNormalizer GradientBoosting              0:02:28       0.9558    0.9782\n        12   RobustScaler LightGBM                          0:00:44       0.8963    0.9782\n        13   TruncatedSVDWrapper LogisticRegression         0:00:36       0.9293    0.9782\n        14   TruncatedSVDWrapper LogisticRegression         0:01:11       0.9529    0.9782\n        15   MinMaxScaler LogisticRegression                0:00:38       0.9570    0.9782\n        16   SparseNormalizer GradientBoosting              0:01:32       0.9641    0.9782\n        17   RobustScaler LogisticRegression                0:00:39       0.9564    0.9782\n        18   RobustScaler ExtremeRandomTrees                0:00:45       0.8639    0.9782\n        19   ",
          "name": "stdout"
        },
        {
          "output_type": "stream",
          "text": "WARNING:root:Parameter 'blacklist_algos' will be deprecated. Use 'blacklist_models'\n",
          "name": "stderr"
        },
        {
          "output_type": "stream",
          "text": " Ensemble                                      0:02:10       0.9811    0.9811\n",
          "name": "stdout"
        }
      ]
    },
    {
      "metadata": {},
      "cell_type": "markdown",
      "source": "## Explore the results\n\nExplore the results of automatic training with a Jupyter widget or by examining the experiment history.\n\n### Jupyter widget\n\nUse the Jupyter notebook widget to see a graph and a table of all results."
    },
    {
      "metadata": {
        "tags": [
          "use notebook widget"
        ],
        "trusted": true
      },
      "cell_type": "code",
      "source": "from azureml.widgets import RunDetails\nRunDetails(local_run).show()",
      "execution_count": 7,
      "outputs": [
        {
          "output_type": "display_data",
          "data": {
            "application/vnd.jupyter.widget-view+json": {
              "model_id": "aa3929a546ea473aac4f355658f4152c",
              "version_minor": 0,
              "version_major": 2
            },
            "text/plain": "_AutoMLWidget(widget_settings={'childWidgetDisplay': 'popup', 'send_telemetry': False, 'log_level': 'NOTSET', …"
          },
          "metadata": {}
        }
      ]
    },
    {
      "metadata": {},
      "cell_type": "markdown",
      "source": "### Retrieve all iterations\n\nView the experiment history and see individual metrics for each iteration run."
    },
    {
      "metadata": {
        "tags": [
          "get metrics",
          "query history"
        ],
        "trusted": true
      },
      "cell_type": "code",
      "source": "children = list(local_run.get_children())\nmetricslist = {}\nfor run in children:\n    properties = run.get_properties()\n    metrics = {k: v for k, v in run.get_metrics().items() if isinstance(v, float)}\n    metricslist[int(properties['iteration'])] = metrics\n\nimport pandas as pd\nrundata = pd.DataFrame(metricslist).sort_index(1)\nrundata",
      "execution_count": 8,
      "outputs": [
        {
          "output_type": "execute_result",
          "execution_count": 8,
          "data": {
            "text/html": "<div>\n<style scoped>\n    .dataframe tbody tr th:only-of-type {\n        vertical-align: middle;\n    }\n\n    .dataframe tbody tr th {\n        vertical-align: top;\n    }\n\n    .dataframe thead th {\n        text-align: right;\n    }\n</style>\n<table border=\"1\" class=\"dataframe\">\n  <thead>\n    <tr style=\"text-align: right;\">\n      <th></th>\n      <th>0</th>\n      <th>1</th>\n      <th>2</th>\n      <th>3</th>\n      <th>4</th>\n      <th>5</th>\n      <th>6</th>\n      <th>7</th>\n      <th>8</th>\n      <th>9</th>\n      <th>10</th>\n      <th>11</th>\n      <th>12</th>\n      <th>13</th>\n      <th>14</th>\n      <th>15</th>\n      <th>16</th>\n      <th>17</th>\n      <th>18</th>\n      <th>19</th>\n    </tr>\n  </thead>\n  <tbody>\n    <tr>\n      <th>AUC_macro</th>\n      <td>0.998831</td>\n      <td>0.997662</td>\n      <td>0.998857</td>\n      <td>0.998766</td>\n      <td>0.995163</td>\n      <td>0.989728</td>\n      <td>0.994868</td>\n      <td>0.970627</td>\n      <td>0.977462</td>\n      <td>0.999639</td>\n      <td>0.500000</td>\n      <td>0.998584</td>\n      <td>0.992923</td>\n      <td>0.994942</td>\n      <td>0.997773</td>\n      <td>0.996776</td>\n      <td>0.999149</td>\n      <td>0.998610</td>\n      <td>0.982066</td>\n      <td>0.999421</td>\n    </tr>\n    <tr>\n      <th>AUC_micro</th>\n      <td>0.999016</td>\n      <td>0.998324</td>\n      <td>0.998996</td>\n      <td>0.998757</td>\n      <td>0.995967</td>\n      <td>0.990945</td>\n      <td>0.995275</td>\n      <td>0.955368</td>\n      <td>0.976433</td>\n      <td>0.999740</td>\n      <td>0.467822</td>\n      <td>0.998836</td>\n      <td>0.993349</td>\n      <td>0.989410</td>\n      <td>0.998163</td>\n      <td>0.997699</td>\n      <td>0.999333</td>\n      <td>0.998890</td>\n      <td>0.978309</td>\n      <td>0.999576</td>\n    </tr>\n    <tr>\n      <th>AUC_weighted</th>\n      <td>0.998831</td>\n      <td>0.997657</td>\n      <td>0.998851</td>\n      <td>0.998741</td>\n      <td>0.995175</td>\n      <td>0.989756</td>\n      <td>0.994840</td>\n      <td>0.970659</td>\n      <td>0.977672</td>\n      <td>0.999636</td>\n      <td>0.500000</td>\n      <td>0.998553</td>\n      <td>0.992927</td>\n      <td>0.994941</td>\n      <td>0.997780</td>\n      <td>0.996803</td>\n      <td>0.999137</td>\n      <td>0.998631</td>\n      <td>0.982037</td>\n      <td>0.999416</td>\n    </tr>\n    <tr>\n      <th>accuracy</th>\n      <td>0.965236</td>\n      <td>0.964060</td>\n      <td>0.965829</td>\n      <td>0.951095</td>\n      <td>0.948736</td>\n      <td>0.931061</td>\n      <td>0.919273</td>\n      <td>0.801413</td>\n      <td>0.822057</td>\n      <td>0.978198</td>\n      <td>0.084267</td>\n      <td>0.955808</td>\n      <td>0.896285</td>\n      <td>0.929284</td>\n      <td>0.952858</td>\n      <td>0.956987</td>\n      <td>0.964056</td>\n      <td>0.956391</td>\n      <td>0.863866</td>\n      <td>0.981146</td>\n    </tr>\n    <tr>\n      <th>accuracy_max</th>\n      <td>0.965236</td>\n      <td>0.965236</td>\n      <td>0.965829</td>\n      <td>0.965829</td>\n      <td>0.965829</td>\n      <td>0.965829</td>\n      <td>0.965829</td>\n      <td>0.965829</td>\n      <td>0.965829</td>\n      <td>0.978198</td>\n      <td>0.978198</td>\n      <td>0.978198</td>\n      <td>0.978198</td>\n      <td>0.978198</td>\n      <td>0.978198</td>\n      <td>0.978198</td>\n      <td>0.978198</td>\n      <td>0.978198</td>\n      <td>0.978198</td>\n      <td>0.981146</td>\n    </tr>\n    <tr>\n      <th>average_precision_score_macro</th>\n      <td>0.993350</td>\n      <td>0.988567</td>\n      <td>0.992366</td>\n      <td>0.991434</td>\n      <td>0.978962</td>\n      <td>0.947201</td>\n      <td>0.970390</td>\n      <td>0.872813</td>\n      <td>0.894950</td>\n      <td>0.997224</td>\n      <td>0.100000</td>\n      <td>0.990815</td>\n      <td>0.957609</td>\n      <td>0.970240</td>\n      <td>0.986056</td>\n      <td>0.983236</td>\n      <td>0.993806</td>\n      <td>0.991169</td>\n      <td>0.918273</td>\n      <td>0.996217</td>\n    </tr>\n    <tr>\n      <th>average_precision_score_micro</th>\n      <td>0.994107</td>\n      <td>0.990068</td>\n      <td>0.993203</td>\n      <td>0.991644</td>\n      <td>0.981941</td>\n      <td>0.953929</td>\n      <td>0.972272</td>\n      <td>0.783523</td>\n      <td>0.879811</td>\n      <td>0.997809</td>\n      <td>0.092734</td>\n      <td>0.991959</td>\n      <td>0.960953</td>\n      <td>0.956164</td>\n      <td>0.987607</td>\n      <td>0.985424</td>\n      <td>0.995036</td>\n      <td>0.992052</td>\n      <td>0.888752</td>\n      <td>0.996939</td>\n    </tr>\n    <tr>\n      <th>average_precision_score_weighted</th>\n      <td>0.993454</td>\n      <td>0.988447</td>\n      <td>0.992412</td>\n      <td>0.991422</td>\n      <td>0.978885</td>\n      <td>0.946802</td>\n      <td>0.970426</td>\n      <td>0.873621</td>\n      <td>0.896105</td>\n      <td>0.997221</td>\n      <td>0.101226</td>\n      <td>0.990701</td>\n      <td>0.957913</td>\n      <td>0.970351</td>\n      <td>0.985869</td>\n      <td>0.983301</td>\n      <td>0.993743</td>\n      <td>0.991234</td>\n      <td>0.918807</td>\n      <td>0.996206</td>\n    </tr>\n    <tr>\n      <th>balanced_accuracy</th>\n      <td>0.965062</td>\n      <td>0.964788</td>\n      <td>0.966320</td>\n      <td>0.951598</td>\n      <td>0.949738</td>\n      <td>0.931572</td>\n      <td>0.919657</td>\n      <td>0.800165</td>\n      <td>0.822133</td>\n      <td>0.978271</td>\n      <td>0.100000</td>\n      <td>0.956780</td>\n      <td>0.895729</td>\n      <td>0.929775</td>\n      <td>0.953396</td>\n      <td>0.957532</td>\n      <td>0.964774</td>\n      <td>0.957229</td>\n      <td>0.863042</td>\n      <td>0.981656</td>\n    </tr>\n    <tr>\n      <th>f1_score_macro</th>\n      <td>0.965093</td>\n      <td>0.964341</td>\n      <td>0.966345</td>\n      <td>0.951341</td>\n      <td>0.948670</td>\n      <td>0.930624</td>\n      <td>0.919193</td>\n      <td>0.785249</td>\n      <td>0.798019</td>\n      <td>0.978073</td>\n      <td>0.015543</td>\n      <td>0.956267</td>\n      <td>0.895722</td>\n      <td>0.930251</td>\n      <td>0.953078</td>\n      <td>0.957085</td>\n      <td>0.964400</td>\n      <td>0.956386</td>\n      <td>0.859901</td>\n      <td>0.981432</td>\n    </tr>\n    <tr>\n      <th>f1_score_micro</th>\n      <td>0.965236</td>\n      <td>0.964060</td>\n      <td>0.965829</td>\n      <td>0.951095</td>\n      <td>0.948736</td>\n      <td>0.931061</td>\n      <td>0.919273</td>\n      <td>0.801413</td>\n      <td>0.822057</td>\n      <td>0.978198</td>\n      <td>0.084267</td>\n      <td>0.955808</td>\n      <td>0.896285</td>\n      <td>0.929284</td>\n      <td>0.952858</td>\n      <td>0.956987</td>\n      <td>0.964056</td>\n      <td>0.956391</td>\n      <td>0.863866</td>\n      <td>0.981146</td>\n    </tr>\n    <tr>\n      <th>f1_score_weighted</th>\n      <td>0.965333</td>\n      <td>0.964047</td>\n      <td>0.965827</td>\n      <td>0.951185</td>\n      <td>0.948278</td>\n      <td>0.930670</td>\n      <td>0.919290</td>\n      <td>0.786745</td>\n      <td>0.799257</td>\n      <td>0.978104</td>\n      <td>0.013099</td>\n      <td>0.955695</td>\n      <td>0.896044</td>\n      <td>0.929980</td>\n      <td>0.952771</td>\n      <td>0.957017</td>\n      <td>0.964101</td>\n      <td>0.956233</td>\n      <td>0.860626</td>\n      <td>0.981151</td>\n    </tr>\n    <tr>\n      <th>log_loss</th>\n      <td>0.149926</td>\n      <td>0.190762</td>\n      <td>0.289249</td>\n      <td>0.178063</td>\n      <td>0.464579</td>\n      <td>0.703938</td>\n      <td>0.560878</td>\n      <td>1.917849</td>\n      <td>1.211337</td>\n      <td>0.081962</td>\n      <td>2.309851</td>\n      <td>0.139174</td>\n      <td>0.589379</td>\n      <td>0.800402</td>\n      <td>0.192303</td>\n      <td>0.204951</td>\n      <td>0.111173</td>\n      <td>0.182269</td>\n      <td>1.553277</td>\n      <td>0.471922</td>\n    </tr>\n    <tr>\n      <th>norm_macro_recall</th>\n      <td>0.961180</td>\n      <td>0.960876</td>\n      <td>0.962578</td>\n      <td>0.946220</td>\n      <td>0.944153</td>\n      <td>0.923969</td>\n      <td>0.910731</td>\n      <td>0.777961</td>\n      <td>0.802370</td>\n      <td>0.975856</td>\n      <td>0.000000</td>\n      <td>0.951978</td>\n      <td>0.884144</td>\n      <td>0.921972</td>\n      <td>0.948218</td>\n      <td>0.952814</td>\n      <td>0.960860</td>\n      <td>0.952477</td>\n      <td>0.847825</td>\n      <td>0.979618</td>\n    </tr>\n    <tr>\n      <th>precision_score_macro</th>\n      <td>0.966393</td>\n      <td>0.964646</td>\n      <td>0.967035</td>\n      <td>0.952315</td>\n      <td>0.949371</td>\n      <td>0.931998</td>\n      <td>0.921038</td>\n      <td>0.818556</td>\n      <td>0.829910</td>\n      <td>0.978354</td>\n      <td>0.008427</td>\n      <td>0.956527</td>\n      <td>0.898676</td>\n      <td>0.932393</td>\n      <td>0.953660</td>\n      <td>0.957781</td>\n      <td>0.964599</td>\n      <td>0.956717</td>\n      <td>0.870579</td>\n      <td>0.981581</td>\n    </tr>\n    <tr>\n      <th>precision_score_micro</th>\n      <td>0.965236</td>\n      <td>0.964060</td>\n      <td>0.965829</td>\n      <td>0.951095</td>\n      <td>0.948736</td>\n      <td>0.931061</td>\n      <td>0.919273</td>\n      <td>0.801413</td>\n      <td>0.822057</td>\n      <td>0.978198</td>\n      <td>0.084267</td>\n      <td>0.955808</td>\n      <td>0.896285</td>\n      <td>0.929284</td>\n      <td>0.952858</td>\n      <td>0.956987</td>\n      <td>0.964056</td>\n      <td>0.956391</td>\n      <td>0.863866</td>\n      <td>0.981146</td>\n    </tr>\n    <tr>\n      <th>precision_score_weighted</th>\n      <td>0.966693</td>\n      <td>0.964788</td>\n      <td>0.966505</td>\n      <td>0.952480</td>\n      <td>0.949658</td>\n      <td>0.932636</td>\n      <td>0.921607</td>\n      <td>0.818754</td>\n      <td>0.831792</td>\n      <td>0.978491</td>\n      <td>0.007102</td>\n      <td>0.956362</td>\n      <td>0.898820</td>\n      <td>0.932296</td>\n      <td>0.953622</td>\n      <td>0.958212</td>\n      <td>0.964698</td>\n      <td>0.957279</td>\n      <td>0.870683</td>\n      <td>0.981528</td>\n    </tr>\n    <tr>\n      <th>recall_score_macro</th>\n      <td>0.965062</td>\n      <td>0.964788</td>\n      <td>0.966320</td>\n      <td>0.951598</td>\n      <td>0.949738</td>\n      <td>0.931572</td>\n      <td>0.919657</td>\n      <td>0.800165</td>\n      <td>0.822133</td>\n      <td>0.978271</td>\n      <td>0.100000</td>\n      <td>0.956780</td>\n      <td>0.895729</td>\n      <td>0.929775</td>\n      <td>0.953396</td>\n      <td>0.957532</td>\n      <td>0.964774</td>\n      <td>0.957229</td>\n      <td>0.863042</td>\n      <td>0.981656</td>\n    </tr>\n    <tr>\n      <th>recall_score_micro</th>\n      <td>0.965236</td>\n      <td>0.964060</td>\n      <td>0.965829</td>\n      <td>0.951095</td>\n      <td>0.948736</td>\n      <td>0.931061</td>\n      <td>0.919273</td>\n      <td>0.801413</td>\n      <td>0.822057</td>\n      <td>0.978198</td>\n      <td>0.084267</td>\n      <td>0.955808</td>\n      <td>0.896285</td>\n      <td>0.929284</td>\n      <td>0.952858</td>\n      <td>0.956987</td>\n      <td>0.964056</td>\n      <td>0.956391</td>\n      <td>0.863866</td>\n      <td>0.981146</td>\n    </tr>\n    <tr>\n      <th>recall_score_weighted</th>\n      <td>0.965236</td>\n      <td>0.964060</td>\n      <td>0.965829</td>\n      <td>0.951095</td>\n      <td>0.948736</td>\n      <td>0.931061</td>\n      <td>0.919273</td>\n      <td>0.801413</td>\n      <td>0.822057</td>\n      <td>0.978198</td>\n      <td>0.084267</td>\n      <td>0.955808</td>\n      <td>0.896285</td>\n      <td>0.929284</td>\n      <td>0.952858</td>\n      <td>0.956987</td>\n      <td>0.964056</td>\n      <td>0.956391</td>\n      <td>0.863866</td>\n      <td>0.981146</td>\n    </tr>\n    <tr>\n      <th>weighted_accuracy</th>\n      <td>0.965412</td>\n      <td>0.963285</td>\n      <td>0.965322</td>\n      <td>0.950510</td>\n      <td>0.947675</td>\n      <td>0.930520</td>\n      <td>0.918738</td>\n      <td>0.802552</td>\n      <td>0.821658</td>\n      <td>0.978154</td>\n      <td>0.070158</td>\n      <td>0.954729</td>\n      <td>0.896680</td>\n      <td>0.928725</td>\n      <td>0.952288</td>\n      <td>0.956399</td>\n      <td>0.963257</td>\n      <td>0.955538</td>\n      <td>0.864640</td>\n      <td>0.980636</td>\n    </tr>\n  </tbody>\n</table>\n</div>",
            "text/plain": "                                         0         1         2         3  \\\nAUC_macro                         0.998831  0.997662  0.998857  0.998766   \nAUC_micro                         0.999016  0.998324  0.998996  0.998757   \nAUC_weighted                      0.998831  0.997657  0.998851  0.998741   \naccuracy                          0.965236  0.964060  0.965829  0.951095   \naccuracy_max                      0.965236  0.965236  0.965829  0.965829   \naverage_precision_score_macro     0.993350  0.988567  0.992366  0.991434   \naverage_precision_score_micro     0.994107  0.990068  0.993203  0.991644   \naverage_precision_score_weighted  0.993454  0.988447  0.992412  0.991422   \nbalanced_accuracy                 0.965062  0.964788  0.966320  0.951598   \nf1_score_macro                    0.965093  0.964341  0.966345  0.951341   \nf1_score_micro                    0.965236  0.964060  0.965829  0.951095   \nf1_score_weighted                 0.965333  0.964047  0.965827  0.951185   \nlog_loss                          0.149926  0.190762  0.289249  0.178063   \nnorm_macro_recall                 0.961180  0.960876  0.962578  0.946220   \nprecision_score_macro             0.966393  0.964646  0.967035  0.952315   \nprecision_score_micro             0.965236  0.964060  0.965829  0.951095   \nprecision_score_weighted          0.966693  0.964788  0.966505  0.952480   \nrecall_score_macro                0.965062  0.964788  0.966320  0.951598   \nrecall_score_micro                0.965236  0.964060  0.965829  0.951095   \nrecall_score_weighted             0.965236  0.964060  0.965829  0.951095   \nweighted_accuracy                 0.965412  0.963285  0.965322  0.950510   \n\n                                         4         5         6         7  \\\nAUC_macro                         0.995163  0.989728  0.994868  0.970627   \nAUC_micro                         0.995967  0.990945  0.995275  0.955368   \nAUC_weighted                      0.995175  0.989756  0.994840  0.970659   \naccuracy                          0.948736  0.931061  0.919273  0.801413   \naccuracy_max                      0.965829  0.965829  0.965829  0.965829   \naverage_precision_score_macro     0.978962  0.947201  0.970390  0.872813   \naverage_precision_score_micro     0.981941  0.953929  0.972272  0.783523   \naverage_precision_score_weighted  0.978885  0.946802  0.970426  0.873621   \nbalanced_accuracy                 0.949738  0.931572  0.919657  0.800165   \nf1_score_macro                    0.948670  0.930624  0.919193  0.785249   \nf1_score_micro                    0.948736  0.931061  0.919273  0.801413   \nf1_score_weighted                 0.948278  0.930670  0.919290  0.786745   \nlog_loss                          0.464579  0.703938  0.560878  1.917849   \nnorm_macro_recall                 0.944153  0.923969  0.910731  0.777961   \nprecision_score_macro             0.949371  0.931998  0.921038  0.818556   \nprecision_score_micro             0.948736  0.931061  0.919273  0.801413   \nprecision_score_weighted          0.949658  0.932636  0.921607  0.818754   \nrecall_score_macro                0.949738  0.931572  0.919657  0.800165   \nrecall_score_micro                0.948736  0.931061  0.919273  0.801413   \nrecall_score_weighted             0.948736  0.931061  0.919273  0.801413   \nweighted_accuracy                 0.947675  0.930520  0.918738  0.802552   \n\n                                         8         9        10        11  \\\nAUC_macro                         0.977462  0.999639  0.500000  0.998584   \nAUC_micro                         0.976433  0.999740  0.467822  0.998836   \nAUC_weighted                      0.977672  0.999636  0.500000  0.998553   \naccuracy                          0.822057  0.978198  0.084267  0.955808   \naccuracy_max                      0.965829  0.978198  0.978198  0.978198   \naverage_precision_score_macro     0.894950  0.997224  0.100000  0.990815   \naverage_precision_score_micro     0.879811  0.997809  0.092734  0.991959   \naverage_precision_score_weighted  0.896105  0.997221  0.101226  0.990701   \nbalanced_accuracy                 0.822133  0.978271  0.100000  0.956780   \nf1_score_macro                    0.798019  0.978073  0.015543  0.956267   \nf1_score_micro                    0.822057  0.978198  0.084267  0.955808   \nf1_score_weighted                 0.799257  0.978104  0.013099  0.955695   \nlog_loss                          1.211337  0.081962  2.309851  0.139174   \nnorm_macro_recall                 0.802370  0.975856  0.000000  0.951978   \nprecision_score_macro             0.829910  0.978354  0.008427  0.956527   \nprecision_score_micro             0.822057  0.978198  0.084267  0.955808   \nprecision_score_weighted          0.831792  0.978491  0.007102  0.956362   \nrecall_score_macro                0.822133  0.978271  0.100000  0.956780   \nrecall_score_micro                0.822057  0.978198  0.084267  0.955808   \nrecall_score_weighted             0.822057  0.978198  0.084267  0.955808   \nweighted_accuracy                 0.821658  0.978154  0.070158  0.954729   \n\n                                        12        13        14        15  \\\nAUC_macro                         0.992923  0.994942  0.997773  0.996776   \nAUC_micro                         0.993349  0.989410  0.998163  0.997699   \nAUC_weighted                      0.992927  0.994941  0.997780  0.996803   \naccuracy                          0.896285  0.929284  0.952858  0.956987   \naccuracy_max                      0.978198  0.978198  0.978198  0.978198   \naverage_precision_score_macro     0.957609  0.970240  0.986056  0.983236   \naverage_precision_score_micro     0.960953  0.956164  0.987607  0.985424   \naverage_precision_score_weighted  0.957913  0.970351  0.985869  0.983301   \nbalanced_accuracy                 0.895729  0.929775  0.953396  0.957532   \nf1_score_macro                    0.895722  0.930251  0.953078  0.957085   \nf1_score_micro                    0.896285  0.929284  0.952858  0.956987   \nf1_score_weighted                 0.896044  0.929980  0.952771  0.957017   \nlog_loss                          0.589379  0.800402  0.192303  0.204951   \nnorm_macro_recall                 0.884144  0.921972  0.948218  0.952814   \nprecision_score_macro             0.898676  0.932393  0.953660  0.957781   \nprecision_score_micro             0.896285  0.929284  0.952858  0.956987   \nprecision_score_weighted          0.898820  0.932296  0.953622  0.958212   \nrecall_score_macro                0.895729  0.929775  0.953396  0.957532   \nrecall_score_micro                0.896285  0.929284  0.952858  0.956987   \nrecall_score_weighted             0.896285  0.929284  0.952858  0.956987   \nweighted_accuracy                 0.896680  0.928725  0.952288  0.956399   \n\n                                        16        17        18        19  \nAUC_macro                         0.999149  0.998610  0.982066  0.999421  \nAUC_micro                         0.999333  0.998890  0.978309  0.999576  \nAUC_weighted                      0.999137  0.998631  0.982037  0.999416  \naccuracy                          0.964056  0.956391  0.863866  0.981146  \naccuracy_max                      0.978198  0.978198  0.978198  0.981146  \naverage_precision_score_macro     0.993806  0.991169  0.918273  0.996217  \naverage_precision_score_micro     0.995036  0.992052  0.888752  0.996939  \naverage_precision_score_weighted  0.993743  0.991234  0.918807  0.996206  \nbalanced_accuracy                 0.964774  0.957229  0.863042  0.981656  \nf1_score_macro                    0.964400  0.956386  0.859901  0.981432  \nf1_score_micro                    0.964056  0.956391  0.863866  0.981146  \nf1_score_weighted                 0.964101  0.956233  0.860626  0.981151  \nlog_loss                          0.111173  0.182269  1.553277  0.471922  \nnorm_macro_recall                 0.960860  0.952477  0.847825  0.979618  \nprecision_score_macro             0.964599  0.956717  0.870579  0.981581  \nprecision_score_micro             0.964056  0.956391  0.863866  0.981146  \nprecision_score_weighted          0.964698  0.957279  0.870683  0.981528  \nrecall_score_macro                0.964774  0.957229  0.863042  0.981656  \nrecall_score_micro                0.964056  0.956391  0.863866  0.981146  \nrecall_score_weighted             0.964056  0.956391  0.863866  0.981146  \nweighted_accuracy                 0.963257  0.955538  0.864640  0.980636  "
          },
          "metadata": {}
        }
      ]
    },
    {
      "metadata": {},
      "cell_type": "markdown",
      "source": "## Register the best model \n\nUse the `local_run` object to get the best model and register it into the workspace. "
    },
    {
      "metadata": {
        "tags": [
          "query history",
          "register model from history"
        ],
        "trusted": true
      },
      "cell_type": "code",
      "source": "# find the run with the highest accuracy value.\nbest_run, fitted_model = local_run.get_output()\n\n# register model in workspace\ndescription = 'Automated Machine Learning Model'\ntags = None\nlocal_run.register_model(description=description, tags=tags)\nlocal_run.model_id # Use this id to deploy the model as a web service in Azure",
      "execution_count": 9,
      "outputs": [
        {
          "output_type": "stream",
          "text": "WARNING:root:Parameter 'blacklist_algos' will be deprecated. Use 'blacklist_models'\nWARNING:root:Parameter 'blacklist_algos' will be deprecated. Use 'blacklist_models'\n",
          "name": "stderr"
        },
        {
          "output_type": "stream",
          "text": "Registering model AutoML678873d5dbest\n",
          "name": "stdout"
        },
        {
          "output_type": "execute_result",
          "execution_count": 9,
          "data": {
            "text/plain": "'AutoML678873d5dbest'"
          },
          "metadata": {}
        }
      ]
    },
    {
      "metadata": {},
      "cell_type": "markdown",
      "source": "## Test the best model\n\nUse the model to predict a few random digits.  Display the predicted and the image.  Red font and inverse image (white on black) is used to highlight the misclassified samples.\n\nSince the model accuracy is high, you might have to run the following code a few times before you can see a misclassified sample."
    },
    {
      "metadata": {
        "trusted": true
      },
      "cell_type": "code",
      "source": "# find 30 random samples from test set\nn = 30\nX_test = digits.data[:100, :]\ny_test = digits.target[:100]\nsample_indices = np.random.permutation(X_test.shape[0])[0:n]\ntest_samples = X_test[sample_indices]\n\n\n# predict using the  model\nresult = fitted_model.predict(test_samples)\n\n# compare actual value vs. the predicted values:\ni = 0\nplt.figure(figsize = (20, 1))\n\nfor s in sample_indices:\n    plt.subplot(1, n, i + 1)\n    plt.axhline('')\n    plt.axvline('')\n    \n    # use different color for misclassified sample\n    font_color = 'red' if y_test[s] != result[i] else 'black'\n    clr_map = plt.cm.gray if y_test[s] != result[i] else plt.cm.Greys\n    \n    plt.text(x = 2, y = -2, s = result[i], fontsize = 18, color = font_color)\n    plt.imshow(X_test[s].reshape(8, 8), cmap = clr_map)\n    \n    i = i + 1\nplt.show()",
      "execution_count": 12,
      "outputs": [
        {
          "output_type": "display_data",
          "data": {
            "image/png": "[encoded data removed]",
            "text/plain": "<Figure size 1440x72 with 30 Axes>"
          },
          "metadata": {
            "needs_background": "light"
          }
        }
      ]
    },
    {
      "metadata": {},
      "cell_type": "markdown",
      "source": "## Next steps\n\nIn this Azure Machine Learning tutorial, you used Python to:\n\n> * Set up your development environment\n> * Access and examine the data\n> * Train using an automated classifier locally with custom parameters\n> * Explore the results\n> * Review training results\n> * Register the best model\n\nLearn more about [how to configure settings for automatic training](https://aka.ms/aml-how-to-configure-auto) or [how to use automatic training on a remote resource](https://aka.ms/aml-how-to-auto-remote)."
    }
  ],
  "metadata": {
    "authors": [
      {
        "name": "jeffshep"
      }
    ],
    "kernelspec": {
      "name": "python36",
      "display_name": "Python 3.6",
      "language": "python"
    },
    "language_info": {
      "mimetype": "text/x-python",
      "nbconvert_exporter": "python",
      "name": "python",
      "pygments_lexer": "ipython3",
      "version": "3.6.6",
      "file_extension": ".py",
      "codemirror_mode": {
        "version": 3,
        "name": "ipython"
      }
    },
    "msauthor": "sgilley"
  },
  "nbformat": 4,
  "nbformat_minor": 2
}