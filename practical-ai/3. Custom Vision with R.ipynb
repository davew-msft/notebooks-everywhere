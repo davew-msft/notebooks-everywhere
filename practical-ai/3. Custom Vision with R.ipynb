{
  "cells": [
    {
      "metadata": {},
      "cell_type": "markdown",
      "source": "# Custom Vision with R\n\n## Not Hotdog\n\nThis example uses the Microsoft Custom Vision API create a function that identifies\nwhether an image on the web is a hot dog ... or not a hotdog. (Inspired by an [episode of Silicon Valley](https://www.youtube.com/watch?v=ACmydtFDTGs).) \n\nFor an overview of the application, take a look at [this blog post](http://blog.revolutionanalytics.com/2018/04/not-hotdog.html). If you'd prefer to use R or RStudio on your laptop to run this script, you can [download this Github repository](https://github.com/revodavid/nothotdog).\n\nHere are some useful references:\n\n* [Overview of Custom Vision API](https://docs.microsoft.com/en-us/azure/cognitive-services/custom-vision-service/home?WT.mc_id=AILive-workshop-davidsmi)\n* [Custom Vision Training API reference](https://southcentralus.dev.cognitive.microsoft.com/docs/services/fde264b7c0e94a529a0ad6d26550a761/operations/59568ae208fa5e09ecb9983a)\n* [Custom Vision Prediction API reference](https://southcentralus.dev.cognitive.microsoft.com/docs/services/57982f59b5964e36841e22dfbfe78fc1/operations/5a3044f608fa5e06b890f164)\n\nThe Custom Vision API also has a Web interface. As you work through this example, you can see the \neffects of your API calls as you go by browsing to\nhttps://www.customvision.ai/projects and logging in with your Microsoft Account.\n\n**Note**: The Custom Vision API is in preview, which means that these APIs may change in the future. Custom Vision is only\navailable in the South Central US region while it's in preview, so we won't worry about regions in this example.\n\n## Create authorization keys for Custom Vision\n\n1. Visit https://portal.azure.com (and sign in if needed)\n2. Click \"+ Create a Resource\" (top-left corner)\n3. With the \"Search the Marketplace\" box, search for \"Custom Vision\"\n4. Select \"Custom Vision (preview)\" and click \"Create\"\n    * Name: ailive-customvision\n    * Subscription: _there should be just one option_\n    * Location: South Central US\n    * Prediction Pricing Tier: F0 (free, 2 transactions per second)\n    * Training pricing Tier: F0 (2 projects)\n    * Resource Group: Use existing \"ailive\" group\n5. Click \"Create\"\n\n## Modify the keys.txt file\n\nEdit the `keys.txt` file to provide the necessary keys. In Azure Notebooks, you select the file and press `i` to edit it directly. (Alternatively, you can download the file `keys.txt` -- highlight it in the Project view and then press `d` or click the download icon in the toolbar -- and edit it with an editor, then upload the modified file.)\n\nFor the first line of the file, `region`, change the value to `southcentralus`. \n\nIgnore the second line of the file, `vision`. \n\nVisit your `ailive` resource group in the [Azure Portal](https://portal.azure.com?WT.mc_id=AILive-workshop-davidsmi) and then:\n\n1. Click on the API resource for Custom Vision `ailive-customvision`\n2. In the menu, click on \"keys\"\n3. Click the \"copy to clipboard\" next to KEY 1. (You can ignore KEY 2).\n4. Paste the key into the `custom` entry in keys.txt\n\n1. Click on the API resource for Custom Vision `ailive-customvis_Prediction` (this resource\n   was created automatically for you).\n2. In the menu, click on \"keys\"\n3. Click the \"copy to clipboard\" next to KEY 1. (You can ignore KEY 2).\n4. Paste the key into the `cvpred` entry in keys.txt\n\nYour final `keys.txt` file will look like this, but with different (working) keys:\n\n```\n       key\nregion southcentralus\nvision 7f1f01ac24064abd80970f41a90237e7\ncustom 1632b49e2930430694a9bbd3ab0c0cc2\ncvpred 37eb1f0e5fd34253939350197ae3d933\n```"
    },
    {
      "metadata": {
        "trusted": true
      },
      "cell_type": "code",
      "source": "library(httr)\nlibrary(jsonlite)",
      "execution_count": 1,
      "outputs": []
    },
    {
      "metadata": {},
      "cell_type": "markdown",
      "source": "Make sure you've followed the instructions above to provide API keys in the `keys.txt` file, and then:"
    },
    {
      "metadata": {
        "trusted": true
      },
      "cell_type": "code",
      "source": "## Retrieve API keys from keys.txt file, set API endpoint \nkeys <- read.table(\"keys.txt\", header=TRUE, stringsAsFactors = FALSE)\n\nregion <- keys[\"region\",1]\n## We won't actually use the region here, except as a check that keys.txt has been edited\nif (region==\"ERROR-EDIT-KEYS.txt-FILE\") \n stop(\"Edit the file keys.txt to provide valid keys. See README.md for details.\")\n\n## retrieve custom vision key\ncvision_api_key <- keys[\"custom\",1]\ncvision_pred_key <- keys[\"cvpred\",1]\ncvision_api_endpoint <- \"https://southcentralus.api.cognitive.microsoft.com/customvision/v1.1/Training\"\n\nprint(keys)\n",
      "execution_count": null,
      "outputs": []
    },
    {
      "metadata": {},
      "cell_type": "markdown",
      "source": "The first step is to create a project using the Custom Vision API. When creating a project, you can optionally use specialized domains like Landmarks or Retail to better identify images. We'll use the \"Food\" domain, and look up the ID code of the Food domain using the API, and them use that when creating our project."
    },
    {
      "metadata": {
        "trusted": true
      },
      "cell_type": "code",
      "source": "## Get the list of available training domains\ndomainsURL <- paste0(cvision_api_endpoint, \"/domains\")\n\nAPIresponse = GET(url = domainsURL,\n                   content_type_json(),\n                   add_headers(.headers= c('Training-key' = cvision_api_key)),\n                   body=\"\",\n                   encode=\"json\")\n\ndomains <- content(APIresponse)\nprint(domains)\ndomains.Food <- domains[[2]]$Id\n\n## Create a project\ncreateURL <- paste0(cvision_api_endpoint, \"/projects?\",\n                    \"name=AFGhotdog&\",\n                    'description=NotHotdog&',\n                    'domainId=',domains.Food)\n\nAPIresponse = POST(url = createURL,\n                   content_type_json(),\n                   add_headers(.headers= c('Training-key' = cvision_api_key)),\n                   body=\"\",\n                   encode=\"json\")\n\ncvision_id <- content(APIresponse)$Id",
      "execution_count": 7,
      "outputs": [
        {
          "output_type": "stream",
          "text": "[[1]]\n[[1]]$Id\n[1] \"ee85a74c-405e-4adc-bb47-ffa8ca0c9f31\"\n\n[[1]]$Name\n[1] \"General\"\n\n[[1]]$Exportable\n[1] FALSE\n\n\n[[2]]\n[[2]]$Id\n[1] \"c151d5b5-dd07-472a-acc8-15d29dea8518\"\n\n[[2]]$Name\n[1] \"Food\"\n\n[[2]]$Exportable\n[1] FALSE\n\n\n[[3]]\n[[3]]$Id\n[1] \"ca455789-012d-4b50-9fec-5bb63841c793\"\n\n[[3]]$Name\n[1] \"Landmarks\"\n\n[[3]]$Exportable\n[1] FALSE\n\n\n[[4]]\n[[4]]$Id\n[1] \"b30a91ae-e3c1-4f73-a81e-c270bff27c39\"\n\n[[4]]$Name\n[1] \"Retail\"\n\n[[4]]$Exportable\n[1] FALSE\n\n\n[[5]]\n[[5]]$Id\n[1] \"45badf75-3591-4f26-a705-45678d3e9f5f\"\n\n[[5]]$Name\n[1] \"Adult\"\n\n[[5]]$Exportable\n[1] FALSE\n\n\n[[6]]\n[[6]]$Id\n[1] \"0732100f-1a38-4e49-a514-c9b44c697ab5\"\n\n[[6]]$Name\n[1] \"General (compact)\"\n\n[[6]]$Exportable\n[1] TRUE\n\n\n[[7]]\n[[7]]$Id\n[1] \"b5cfd229-2ac7-4b2b-8d0a-2b0661344894\"\n\n[[7]]$Name\n[1] \"Landmarks (compact)\"\n\n[[7]]$Exportable\n[1] TRUE\n\n\n[[8]]\n[[8]]$Id\n[1] \"6b4faeda-8396-481b-9f8b-177b9fa3097f\"\n\n[[8]]$Name\n[1] \"Retail (compact)\"\n\n[[8]]$Exportable\n[1] TRUE\n\n\n",
          "name": "stdout"
        }
      ]
    },
    {
      "metadata": {
        "trusted": true
      },
      "cell_type": "code",
      "source": "## Next, create tags we will use to label the images\n## We will use \"hotdog\" for hot dog images and \"nothotdog\" for similar looking foods\n## We will save the tag ids returned by the API for use later\n\n## function to create one tag, and return its id\ncreateTag <- function(id, tagname) {\n eURL <- paste0(cvision_api_endpoint, \"/projects/\", id, \"/tags?\",\n                \"name=\",tagname)\n \n APIresponse = POST(url = eURL,\n                    content_type_json(),\n                    add_headers(.headers= c('Training-key' = cvision_api_key)),\n                    body=\"\",\n                    encode=\"json\")\n\n content(APIresponse)$Id \n}\n\nhotdog_tag <- createTag(cvision_id, \"hotdog\")\nnothotdog_tag <- createTag(cvision_id, \"nothotdog\")\ntags <- c(hotdog = hotdog_tag, nothotdog=nothotdog_tag)\ntags",
      "execution_count": 8,
      "outputs": [
        {
          "output_type": "display_data",
          "data": {
            "text/plain": "                                hotdog                              nothotdog \n\"8f23161d-ad29-43b0-9580-455b3e4d596d\" \"60332835-0b9b-4cca-8a67-cdf92d70e413\" ",
            "text/latex": "\\begin{description*}\n\\item[hotdog] '8f23161d-ad29-43b0-9580-455b3e4d596d'\n\\item[nothotdog] '60332835-0b9b-4cca-8a67-cdf92d70e413'\n\\end{description*}\n",
            "text/markdown": "hotdog\n:   '8f23161d-ad29-43b0-9580-455b3e4d596d'nothotdog\n:   '60332835-0b9b-4cca-8a67-cdf92d70e413'\n\n",
            "text/html": "<dl class=dl-horizontal>\n\t<dt>hotdog</dt>\n\t\t<dd>'8f23161d-ad29-43b0-9580-455b3e4d596d'</dd>\n\t<dt>nothotdog</dt>\n\t\t<dd>'60332835-0b9b-4cca-8a67-cdf92d70e413'</dd>\n</dl>\n"
          },
          "metadata": {}
        }
      ]
    },
    {
      "metadata": {},
      "cell_type": "markdown",
      "source": "This is a good opportunity to visit https://customvision.ai and log in to see your project. It's empty for now, but with our two tags defined. We'll upload pictures of hotdogs under the \"hotdog\" tag, and pictures of tacos, hamburgers, etc. under the \"nothotdog\" tag.\n\nNote that our app will actually be classifying _three_ types of images: hotdogs, tacos/hamburgers, and eveything else. When building a classifier, it's useful to include a category of images likely to be mistaken for your target image -- that's why we chose tacos and hamburgers. You can use the same technique to create a classifier that detects multiple image types; for example, you could add a \"pizza\" tag and also upload images of pizza.\n\nWe created the files `hotdogs-good.txt` and `nothotdogs-good.txt`\nusing ImageNet data and some visual inspection. See the file \n`nothotdog-find-data.R` if you want to see how it was done."
    },
    {
      "metadata": {
        "trusted": true
      },
      "cell_type": "code",
      "source": "## Read in a file of URLs of images of hotdogs, and also a file\n## of URL of images that are somewhat similar to, but not, hotdogs\nhotdogs <- scan(\"hotdogs-good.txt\",what=character())\nnothotdogs <- scan(\"nothotdogs-good.txt\", what=character())\n\n## A function to upload images to Custom Vision\nuploadURLs <- function(id, tagname, urls) {\n ## id: Project ID\n ## tagname: one tag (applued to all URLs), as a tag ID\n ## urls: vector of image URLs\n\n eURL <- paste0(cvision_api_endpoint, \"/projects/\", id, \"/images/url\")\n success <- logical(0)\n  \n ## The API accepts 64 URLs at a time, max, so:\n while(length(urls) > 0) {\n\n  N <- min(length(urls), 64) \n  urls.body <- toJSON(list(TagIds=tagname, Urls=urls[1:N]))\n\n  APIresponse = POST(url = eURL,\n                    content_type_json(),\n                    add_headers(.headers= c('Training-key' = cvision_api_key)),\n                    body=urls.body,\n                    encode=\"json\")\n \n  success <- c(success,content(APIresponse)$IsBatchSuccessful)\n  urls <- urls[-(1:N)]\n }\n all(success)\n}\n\n## Upload the images to Custom Vision. Should return TRUE in both cases, indicating success.\n## If you do get some FALSE results, it's probably because some URLs were unavailable.\nuploadURLs(cvision_id, tags[\"hotdog\"], hotdogs)\nuploadURLs(cvision_id, tags[\"nothotdog\"], nothotdogs)",
      "execution_count": 9,
      "outputs": [
        {
          "output_type": "display_data",
          "data": {
            "text/plain": "[1] FALSE",
            "text/latex": "FALSE",
            "text/markdown": "FALSE",
            "text/html": "FALSE"
          },
          "metadata": {}
        },
        {
          "output_type": "display_data",
          "data": {
            "text/plain": "[1] FALSE",
            "text/latex": "FALSE",
            "text/markdown": "FALSE",
            "text/html": "FALSE"
          },
          "metadata": {}
        }
      ]
    },
    {
      "metadata": {},
      "cell_type": "markdown",
      "source": "Take another look at your project at https://customvision.ai . You'll now see the project populated with images, classified as `hotdog` and `nothotdog`.\n\nWe can alse check on the status of the project via the API:"
    },
    {
      "metadata": {
        "trusted": true
      },
      "cell_type": "code",
      "source": "## Get status of projects\nprojURL <- paste0(cvision_api_endpoint, \"/projects/\")\n\nAPIresponse = GET(url = projURL,\n                   content_type_json(),\n                   add_headers(.headers= c('Training-key' = cvision_api_key)),\n                   body=\"\",\n                   encode=\"json\")\n\nprojStatus <- content(APIresponse)\n\n## These two will be the same unless you have more than one project\nprint(projStatus[[1]]$Id)\nprint(cvision_id)",
      "execution_count": 10,
      "outputs": [
        {
          "output_type": "stream",
          "text": "[1] \"a1b5c8ec-c74c-4d9d-b61e-7d68764d17d5\"\n[1] \"a1b5c8ec-c74c-4d9d-b61e-7d68764d17d5\"\n",
          "name": "stdout"
        }
      ]
    },
    {
      "metadata": {
        "trusted": true
      },
      "cell_type": "code",
      "source": "## Train project\ntrainURL <- paste0(cvision_api_endpoint, \"/projects/\",\n                   cvision_id,\n                   \"/train\")\n\nAPIresponse = POST(url = trainURL,\n                   content_type_json(),\n                   add_headers(.headers= c('Training-key' = cvision_api_key)),\n                   body=\"\",\n                   encode=\"json\")\n\ntrainOut <- content(APIresponse)\n\nif(!is.null(trainOut$Code)) print(trainOut$Message) else\n  train.id <- content(APIresponse)$Id\n\nprint(train.id)",
      "execution_count": 11,
      "outputs": [
        {
          "output_type": "stream",
          "text": "[1] \"0ac6e0de-6000-414b-a7fe-3d08f9f9ec03\"\n",
          "name": "stdout"
        }
      ]
    },
    {
      "metadata": {
        "trusted": true
      },
      "cell_type": "code",
      "source": "## Function to check status of a trained model (iteration)\n\niterStatus <- function(id) {\n iterURL <- paste0(cvision_api_endpoint, \"/projects/\",\n                    cvision_id,\n                    \"/iterations/\",\n                    id)\n \n APIresponse = GET(url = iterURL,\n                    content_type_json(),\n                    add_headers(.headers= c('Training-key' = cvision_api_key)),\n                    body=\"\",\n                    encode=\"json\")\n \n content(APIresponse)$Status\n}",
      "execution_count": 13,
      "outputs": []
    },
    {
      "metadata": {
        "trusted": true
      },
      "cell_type": "code",
      "source": "## Keep checking this until the status is: Completed\niterStatus(train.id)",
      "execution_count": 14,
      "outputs": [
        {
          "output_type": "display_data",
          "data": {
            "text/plain": "[1] \"Completed\"",
            "text/latex": "'Completed'",
            "text/markdown": "'Completed'",
            "text/html": "'Completed'"
          },
          "metadata": {}
        }
      ]
    },
    {
      "metadata": {},
      "cell_type": "markdown",
      "source": "Now, visit https://customvision.ai, select your project and click the \"Performance\" tab. Experiment with moving the Probability Threshold slider, and note that you can decrease it (improving Recall) while generally maintaining Precision. This will be useful later."
    },
    {
      "metadata": {},
      "cell_type": "markdown",
      "source": "Now, we'll write a function to classify an image.\n\nThe prediction API will return a classification probability for both of our tags, `hotdog` and `nothotdog`. We'll use the following rules, with a default threshold of 50%:\n\n* If the `hotdog` probability is above the threshold, classify as \"hotdog\"\n* Otherwise, if the `nothotdog` probability is above the threshold, classify as \"non-hotdog food\"\n* Otherwise, classify as \"not hotdog\"."
    },
    {
      "metadata": {
        "trusted": true
      },
      "cell_type": "code",
      "source": "cvision_api_endpoint_pred <- \"https://southcentralus.api.cognitive.microsoft.com/customvision/v1.1/Prediction\"\n\n## Function to generate predictions from a single URL, with classifier cutoff threshold (0-1)\nhotdog_predict <- function(imageURL, threshold = 0.5) {\n predURL <- paste0(cvision_api_endpoint_pred, \"/\", cvision_id,\"/url?\",\n                   \"iterationId=\",train.id,\n                   \"&application=R\"\n                   )\n\n body.pred <- toJSON(list(Url=imageURL[1]), auto_unbox = TRUE)\n\n APIresponse = POST(url = predURL,\n                    content_type_json(),\n                    add_headers(.headers= c('Prediction-key' = cvision_pred_key)),\n                    body=body.pred,\n                    encode=\"json\")\n \n out <- content(APIresponse)\n \n if(!is.null(out$Code)) msg <- paste0(\"Can't analyze: \", out$Message) else\n {  \n  predmat <- matrix(unlist(out$Predictions), nrow=3)\n  preds <- as.numeric(predmat[3,])\n  names(preds) <- predmat[2,]\n  \n  ## uncomment this to see the class predictions\n  ## print(preds)\n  \n  if(preds[\"hotdog\"]>threshold) msg <- \"Hotdog\" else\n   if(preds[\"nothotdog\"]>threshold) msg <- \"Not Hotdog (but it looks delicious!)\" else\n    msg <- \"Not Hotdog\"\n  }\n\n  ## print the URL -- it will become clickable in the notebook\n  cat(imageURL[1],\"\\n\")\n  msg\n}",
      "execution_count": 21,
      "outputs": []
    },
    {
      "metadata": {
        "trusted": true
      },
      "cell_type": "code",
      "source": "## Since these images were in our training data, most of these should be correct.\n## The exact nunber is determined by the threshold (here, 50%) and the Recall statistic\nhotdog_predict(hotdogs[1])\nhotdog_predict(nothotdogs[1])",
      "execution_count": 27,
      "outputs": [
        {
          "output_type": "stream",
          "text": "http://www.bigislandgrinds.com/wp-content/images/hiranostore_hotdog.jpg \n",
          "name": "stdout"
        },
        {
          "output_type": "display_data",
          "data": {
            "text/plain": "[1] \"Hotdog\"",
            "text/latex": "'Hotdog'",
            "text/markdown": "'Hotdog'",
            "text/html": "'Hotdog'"
          },
          "metadata": {}
        },
        {
          "output_type": "stream",
          "text": "http://simplyrecipes.com/photos/hamburger.jpg \n",
          "name": "stdout"
        },
        {
          "output_type": "display_data",
          "data": {
            "text/plain": "[1] \"Not Hotdog (but it looks delicious!)\"",
            "text/latex": "'Not Hotdog (but it looks delicious!)'",
            "text/markdown": "'Not Hotdog (but it looks delicious!)'",
            "text/html": "'Not Hotdog (but it looks delicious!)'"
          },
          "metadata": {}
        }
      ]
    },
    {
      "metadata": {
        "trusted": true
      },
      "cell_type": "code",
      "source": "## here are some images to try, from a Google Image Search for \"hotdog\nexample.hotdogs <- c(\n \"http://www.wienerschnitzel.com/wp-content/uploads/2014/10/hotdog_mustard-main.jpg\",\n \"https://qz.com/wp-content/uploads/2017/07/hotdogs2__2__720.jpg?quality=80&strip=all\",\n \"http://www.americangarden.us/wp-content/uploads/2016/10/Recipe_Hot-dog-sandwich.jpg\",\n \"http://www.hot-dog.org/sites/default/files/pictures/hot-dogs-on-the-grill-sm.jpg\",\n \"https://www.dairyqueen.com/Global/Food/Hot-Dogs_8-to-1_470x500.jpg?width=&height=810\"\n)\n\n## and a few Not Hotdog images to try\nexample.nothotdogs <- c(\n \"https://upload.wikimedia.org/wikipedia/commons/thumb/4/46/Burrito_with_rice.jpg/1200px-Burrito_with_rice.jpg\", #burrito\n \"https://www.biggerbolderbaking.com/wp-content/uploads/2015/12/IMG_8761.jpg\", # croissant\n \"https://bigoven-res.cloudinary.com/image/upload/t_recipe-480/sausage-rolls.jpg\", #sausage roll\n \"https://www.recipetineats.com/wp-content/uploads/2017/09/Spring-Rolls-6.jpg\", #spring rolls\n \"https://images-gmi-pmc.edge-generalmills.com/b8488ce5-b076-420d-b0d0-e83039cae278.jpg\" # jelly roll\n)",
      "execution_count": 23,
      "outputs": []
    },
    {
      "metadata": {
        "trusted": true
      },
      "cell_type": "code",
      "source": "## try out the other examples as well\nhotdog_predict(example.hotdogs[2])\nhotdog_predict(example.nothotdogs[2])",
      "execution_count": 24,
      "outputs": [
        {
          "output_type": "stream",
          "text": "https://qz.com/wp-content/uploads/2017/07/hotdogs2__2__720.jpg?quality=80&strip=all \n",
          "name": "stdout"
        },
        {
          "output_type": "display_data",
          "data": {
            "text/plain": "[1] \"Hotdog\"",
            "text/latex": "'Hotdog'",
            "text/markdown": "'Hotdog'",
            "text/html": "'Hotdog'"
          },
          "metadata": {}
        },
        {
          "output_type": "stream",
          "text": "https://www.biggerbolderbaking.com/wp-content/uploads/2015/12/IMG_8761.jpg \n",
          "name": "stdout"
        },
        {
          "output_type": "display_data",
          "data": {
            "text/plain": "[1] \"Not Hotdog\"",
            "text/latex": "'Not Hotdog'",
            "text/markdown": "'Not Hotdog'",
            "text/html": "'Not Hotdog'"
          },
          "metadata": {}
        }
      ]
    },
    {
      "metadata": {
        "trusted": true
      },
      "cell_type": "code",
      "source": "## Here's an example where the classification is wrong, at the 50% threshold\nhotdog_predict(example.nothotdogs[4])",
      "execution_count": 25,
      "outputs": [
        {
          "output_type": "stream",
          "text": "https://www.recipetineats.com/wp-content/uploads/2017/09/Spring-Rolls-6.jpg \n",
          "name": "stdout"
        },
        {
          "output_type": "display_data",
          "data": {
            "text/plain": "[1] \"Not Hotdog\"",
            "text/latex": "'Not Hotdog'",
            "text/markdown": "'Not Hotdog'",
            "text/html": "'Not Hotdog'"
          },
          "metadata": {}
        }
      ]
    },
    {
      "metadata": {
        "trusted": true
      },
      "cell_type": "code",
      "source": "## We can be more conservative, at the expense of misclassifying some actual hotdogs\nhotdog_predict(example.nothotdogs[4], threshold = 0.45)\nhotdog_predict(example.hotdogs[3], threshold = 0.45)",
      "execution_count": 26,
      "outputs": [
        {
          "output_type": "stream",
          "text": "https://www.recipetineats.com/wp-content/uploads/2017/09/Spring-Rolls-6.jpg \n",
          "name": "stdout"
        },
        {
          "output_type": "display_data",
          "data": {
            "text/plain": "[1] \"Hotdog\"",
            "text/latex": "'Hotdog'",
            "text/markdown": "'Hotdog'",
            "text/html": "'Hotdog'"
          },
          "metadata": {}
        },
        {
          "output_type": "stream",
          "text": "http://www.americangarden.us/wp-content/uploads/2016/10/Recipe_Hot-dog-sandwich.jpg \n",
          "name": "stdout"
        },
        {
          "output_type": "display_data",
          "data": {
            "text/plain": "[1] \"Hotdog\"",
            "text/latex": "'Hotdog'",
            "text/markdown": "'Hotdog'",
            "text/html": "'Hotdog'"
          },
          "metadata": {}
        }
      ]
    }
  ],
  "metadata": {
    "kernelspec": {
      "name": "r",
      "display_name": "R",
      "language": "R"
    },
    "language_info": {
      "mimetype": "text/x-r-source",
      "name": "R",
      "pygments_lexer": "r",
      "version": "3.4.1",
      "file_extension": ".r",
      "codemirror_mode": "r"
    }
  },
  "nbformat": 4,
  "nbformat_minor": 2
}